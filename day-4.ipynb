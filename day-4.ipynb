{
 "cells": [
  {
   "cell_type": "code",
   "execution_count": 3,
   "id": "6c06ae05-a919-4dc4-bbe0-24963867e930",
   "metadata": {},
   "outputs": [
    {
     "name": "stdin",
     "output_type": "stream",
     "text": [
      "Enter a value 4\n",
      "Enter b value 0\n"
     ]
    },
    {
     "ename": "ZeroDivisionError",
     "evalue": "division by zero",
     "output_type": "error",
     "traceback": [
      "\u001b[1;31m---------------------------------------------------------------------------\u001b[0m",
      "\u001b[1;31mZeroDivisionError\u001b[0m                         Traceback (most recent call last)",
      "Cell \u001b[1;32mIn[3], line 3\u001b[0m\n\u001b[0;32m      1\u001b[0m a \u001b[38;5;241m=\u001b[39m \u001b[38;5;28mint\u001b[39m(\u001b[38;5;28minput\u001b[39m(\u001b[38;5;124m\"\u001b[39m\u001b[38;5;124mEnter a value\u001b[39m\u001b[38;5;124m\"\u001b[39m))\n\u001b[0;32m      2\u001b[0m b \u001b[38;5;241m=\u001b[39m \u001b[38;5;28mint\u001b[39m(\u001b[38;5;28minput\u001b[39m(\u001b[38;5;124m\"\u001b[39m\u001b[38;5;124mEnter b value\u001b[39m\u001b[38;5;124m\"\u001b[39m))\n\u001b[1;32m----> 3\u001b[0m c \u001b[38;5;241m=\u001b[39m a \u001b[38;5;241m/\u001b[39m b\n\u001b[0;32m      4\u001b[0m \u001b[38;5;28mprint\u001b[39m(c)\n\u001b[0;32m      5\u001b[0m \u001b[38;5;28mprint\u001b[39m(\u001b[38;5;124m\"\u001b[39m\u001b[38;5;124mAfter printing the c value\u001b[39m\u001b[38;5;124m\"\u001b[39m)\n",
      "\u001b[1;31mZeroDivisionError\u001b[0m: division by zero"
     ]
    }
   ],
   "source": [
    "a = int(input(\"Enter a value\"))\n",
    "b = int(input(\"Enter b value\"))\n",
    "c = a / b\n",
    "print(c)\n",
    "print(\"After printing the c value\")"
   ]
  },
  {
   "cell_type": "code",
   "execution_count": 17,
   "id": "3c7ca317-4c5c-41d0-9b31-4d7d55d3d47f",
   "metadata": {},
   "outputs": [
    {
     "name": "stdout",
     "output_type": "stream",
     "text": [
      "You have entered zero for denonimotr, so please re enter b != 0\n"
     ]
    },
    {
     "ename": "KeyboardInterrupt",
     "evalue": "Interrupted by user",
     "output_type": "error",
     "traceback": [
      "\u001b[1;31m---------------------------------------------------------------------------\u001b[0m",
      "\u001b[1;31mKeyboardInterrupt\u001b[0m                         Traceback (most recent call last)",
      "Cell \u001b[1;32mIn[17], line 8\u001b[0m\n\u001b[0;32m      6\u001b[0m \u001b[38;5;28;01mexcept\u001b[39;00m:\n\u001b[0;32m      7\u001b[0m \t\u001b[38;5;28mprint\u001b[39m(\u001b[38;5;124m\"\u001b[39m\u001b[38;5;124mYou have entered zero for denonimotr, so please re enter b != 0\u001b[39m\u001b[38;5;124m\"\u001b[39m)\n\u001b[1;32m----> 8\u001b[0m \tb \u001b[38;5;241m=\u001b[39m \u001b[38;5;28mint\u001b[39m(\u001b[38;5;28minput\u001b[39m(\u001b[38;5;124m\"\u001b[39m\u001b[38;5;124menter b value\u001b[39m\u001b[38;5;124m\"\u001b[39m))\n",
      "File \u001b[1;32mC:\\ProgramData\\anaconda3\\Lib\\site-packages\\ipykernel\\kernelbase.py:1282\u001b[0m, in \u001b[0;36mKernel.raw_input\u001b[1;34m(self, prompt)\u001b[0m\n\u001b[0;32m   1280\u001b[0m     msg \u001b[38;5;241m=\u001b[39m \u001b[38;5;124m\"\u001b[39m\u001b[38;5;124mraw_input was called, but this frontend does not support input requests.\u001b[39m\u001b[38;5;124m\"\u001b[39m\n\u001b[0;32m   1281\u001b[0m     \u001b[38;5;28;01mraise\u001b[39;00m StdinNotImplementedError(msg)\n\u001b[1;32m-> 1282\u001b[0m \u001b[38;5;28;01mreturn\u001b[39;00m \u001b[38;5;28mself\u001b[39m\u001b[38;5;241m.\u001b[39m_input_request(\n\u001b[0;32m   1283\u001b[0m     \u001b[38;5;28mstr\u001b[39m(prompt),\n\u001b[0;32m   1284\u001b[0m     \u001b[38;5;28mself\u001b[39m\u001b[38;5;241m.\u001b[39m_parent_ident[\u001b[38;5;124m\"\u001b[39m\u001b[38;5;124mshell\u001b[39m\u001b[38;5;124m\"\u001b[39m],\n\u001b[0;32m   1285\u001b[0m     \u001b[38;5;28mself\u001b[39m\u001b[38;5;241m.\u001b[39mget_parent(\u001b[38;5;124m\"\u001b[39m\u001b[38;5;124mshell\u001b[39m\u001b[38;5;124m\"\u001b[39m),\n\u001b[0;32m   1286\u001b[0m     password\u001b[38;5;241m=\u001b[39m\u001b[38;5;28;01mFalse\u001b[39;00m,\n\u001b[0;32m   1287\u001b[0m )\n",
      "File \u001b[1;32mC:\\ProgramData\\anaconda3\\Lib\\site-packages\\ipykernel\\kernelbase.py:1325\u001b[0m, in \u001b[0;36mKernel._input_request\u001b[1;34m(self, prompt, ident, parent, password)\u001b[0m\n\u001b[0;32m   1322\u001b[0m \u001b[38;5;28;01mexcept\u001b[39;00m \u001b[38;5;167;01mKeyboardInterrupt\u001b[39;00m:\n\u001b[0;32m   1323\u001b[0m     \u001b[38;5;66;03m# re-raise KeyboardInterrupt, to truncate traceback\u001b[39;00m\n\u001b[0;32m   1324\u001b[0m     msg \u001b[38;5;241m=\u001b[39m \u001b[38;5;124m\"\u001b[39m\u001b[38;5;124mInterrupted by user\u001b[39m\u001b[38;5;124m\"\u001b[39m\n\u001b[1;32m-> 1325\u001b[0m     \u001b[38;5;28;01mraise\u001b[39;00m \u001b[38;5;167;01mKeyboardInterrupt\u001b[39;00m(msg) \u001b[38;5;28;01mfrom\u001b[39;00m\u001b[38;5;250m \u001b[39m\u001b[38;5;28;01mNone\u001b[39;00m\n\u001b[0;32m   1326\u001b[0m \u001b[38;5;28;01mexcept\u001b[39;00m \u001b[38;5;167;01mException\u001b[39;00m:\n\u001b[0;32m   1327\u001b[0m     \u001b[38;5;28mself\u001b[39m\u001b[38;5;241m.\u001b[39mlog\u001b[38;5;241m.\u001b[39mwarning(\u001b[38;5;124m\"\u001b[39m\u001b[38;5;124mInvalid Message:\u001b[39m\u001b[38;5;124m\"\u001b[39m, exc_info\u001b[38;5;241m=\u001b[39m\u001b[38;5;28;01mTrue\u001b[39;00m)\n",
      "\u001b[1;31mKeyboardInterrupt\u001b[0m: Interrupted by user"
     ]
    }
   ],
   "source": [
    "try:\n",
    "\ta = int(input(\"Enter a value\"))\n",
    "\tb = int(input(\"Enter b value\"))\n",
    "\tc = a/b\n",
    "\tprint(\"The result of c in try block:\", c)\n",
    "except:\n",
    "\tprint(\"You have entered zero for denonimotr, so please re enter b != 0\")\n",
    "\tb = int(input(\"enter b value\"))\n",
    "   !)"
   ]
  },
  {
   "cell_type": "code",
   "execution_count": 23,
   "id": "99358af9-9c0e-42d7-9f97-182e763bb336",
   "metadata": {},
   "outputs": [
    {
     "ename": "IndentationError",
     "evalue": "unindent does not match any outer indentation level (<string>, line 9)",
     "output_type": "error",
     "traceback": [
      "\u001b[1;36m  File \u001b[1;32m<string>:9\u001b[1;36m\u001b[0m\n\u001b[1;33m    try:\u001b[0m\n\u001b[1;37m        ^\u001b[0m\n\u001b[1;31mIndentationError\u001b[0m\u001b[1;31m:\u001b[0m unindent does not match any outer indentation level\n"
     ]
    }
   ],
   "source": [
    "try:\n",
    "\ta = int(input(\"Enter a value\"))\n",
    "\tb = int(input(\"Enter b value\"))\n",
    "\tc = a/b\n",
    "\tprint(\"The result of c in try block:\", c)\n",
    "except ZeroDivisionError:\n",
    "\tprint(\"You have entered zero for denonimotr, so please re enter b != 0\")\n",
    "\tb = int(input(\"enter b value\"))\n",
    "    try:\n",
    "           c = a/b\n",
    "           print(\"The value of c is \", c)\n",
    "    except ZeroDivisionError:\n",
    "            print(\"You have again entered zero, please re enter\");\n",
    "            b = int(input(\"enter b value\"))\n",
    "    finally:\n",
    "            print(\"All done\")"
   ]
  },
  {
   "cell_type": "code",
   "execution_count": 24,
   "id": "9d63d665-2289-4da4-b0b5-3d91d50a043b",
   "metadata": {},
   "outputs": [
    {
     "name": "stdout",
     "output_type": "stream",
     "text": [
      "Caught Error\n",
      "Caught Index Error\n",
      "Zero division Error Caught\n",
      "All exceptions  done\n"
     ]
    }
   ],
   "source": [
    "try:\n",
    "    a = int(\"xyz\")\n",
    "except ValueError:\n",
    "    print(\"Caught Error\")\n",
    "    try:\n",
    "        b = [1,2,3]\n",
    "        print(b[5])\n",
    "    except IndexError:\n",
    "        print(\"Caught Index Error\")\n",
    "        try:\n",
    "            c = 10/0\n",
    "        except ZeroDivisionError:\n",
    "            print(\"Zero division Error Caught\")\n",
    "finally:\n",
    "    print(\"All exceptions  done\")\n",
    "            "
   ]
  },
  {
   "cell_type": "code",
   "execution_count": 42,
   "id": "94cff063-b524-4992-9e5f-f402834b7322",
   "metadata": {},
   "outputs": [
    {
     "name": "stdout",
     "output_type": "stream",
     "text": [
      "3\n",
      "General Exception block is raised\n",
      "Inside the finally block\n"
     ]
    }
   ],
   "source": [
    "try:\n",
    "    # open the files\n",
    "    a = int(\"19\") # ValueError\n",
    "    a = 10/1      # ZeroDivisionError\n",
    "    a = [1,2,3,4]   \n",
    "    print(a[2])     # IndexError\n",
    "    d = {\"a\":1}\n",
    "    print(d[\"b\"])\n",
    "    \n",
    "except ValueError:\n",
    "    print(\"Value error is raised\")\n",
    "    \n",
    "except ZeroDivisionError:\n",
    "    print(\"Zero division error is raised\")\n",
    "    \n",
    "except IndexError:\n",
    "    print(\"Index Error is raised\")\n",
    "\n",
    "except:\n",
    "    print(\"General Exception block is raised\")\n",
    "     \n",
    "finally:\n",
    "    print(\"Inside the finally block\")\n",
    "    # file close"
   ]
  },
  {
   "cell_type": "code",
   "execution_count": null,
   "id": "0503cadd-69a0-4dbd-9e16-12626c15009d",
   "metadata": {},
   "outputs": [],
   "source": []
  }
 ],
 "metadata": {
  "kernelspec": {
   "display_name": "Python [conda env:base] *",
   "language": "python",
   "name": "conda-base-py"
  },
  "language_info": {
   "codemirror_mode": {
    "name": "ipython",
    "version": 3
   },
   "file_extension": ".py",
   "mimetype": "text/x-python",
   "name": "python",
   "nbconvert_exporter": "python",
   "pygments_lexer": "ipython3",
   "version": "3.13.5"
  }
 },
 "nbformat": 4,
 "nbformat_minor": 5
}
