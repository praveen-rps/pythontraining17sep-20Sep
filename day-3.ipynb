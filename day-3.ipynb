{
 "cells": [
  {
   "cell_type": "code",
   "execution_count": 8,
   "id": "7ecd8448-90bf-42c0-ab7d-1a371a4d7a58",
   "metadata": {},
   "outputs": [
    {
     "name": "stdout",
     "output_type": "stream",
     "text": [
      "Hello Python Programing\n"
     ]
    }
   ],
   "source": [
    "print(\"Hello Python Programing\")"
   ]
  },
  {
   "cell_type": "code",
   "execution_count": 9,
   "id": "85ba8324-4016-481a-ab14-674693f55200",
   "metadata": {},
   "outputs": [
    {
     "name": "stdout",
     "output_type": "stream",
     "text": [
      "Thesum is  30\n"
     ]
    }
   ],
   "source": [
    "a= 10\n",
    "b= 20\n",
    "c = a+b\n",
    "print(\"Thesum is \",c)"
   ]
  },
  {
   "cell_type": "code",
   "execution_count": 4,
   "id": "9b0f91b0-784a-43f9-950a-83052e2aace1",
   "metadata": {},
   "outputs": [],
   "source": [
    "a = 100"
   ]
  },
  {
   "cell_type": "code",
   "execution_count": 5,
   "id": "1d0088a0-31a4-4225-a40d-f4162c963c5f",
   "metadata": {},
   "outputs": [],
   "source": [
    "b= 200"
   ]
  },
  {
   "cell_type": "code",
   "execution_count": 6,
   "id": "2270ce7a-28c0-46d4-853c-3d45315a499f",
   "metadata": {},
   "outputs": [],
   "source": [
    "c= a+b"
   ]
  },
  {
   "cell_type": "code",
   "execution_count": 10,
   "id": "c99b5382-61e4-467a-ab84-32e6ba23e5ca",
   "metadata": {},
   "outputs": [
    {
     "data": {
      "text/plain": [
       "30"
      ]
     },
     "execution_count": 10,
     "metadata": {},
     "output_type": "execute_result"
    }
   ],
   "source": [
    "c"
   ]
  },
  {
   "cell_type": "code",
   "execution_count": 11,
   "id": "b9b9ea21-ec3c-4552-83e6-2275d2da6066",
   "metadata": {},
   "outputs": [
    {
     "name": "stdout",
     "output_type": "stream",
     "text": [
      "HEllo\n"
     ]
    }
   ],
   "source": [
    "print(\"HEllo\")"
   ]
  },
  {
   "cell_type": "code",
   "execution_count": 12,
   "id": "b268aa09-9c4c-4412-8e6f-7fc8c7277cee",
   "metadata": {},
   "outputs": [],
   "source": [
    "a = 2 +3j"
   ]
  },
  {
   "cell_type": "code",
   "execution_count": 13,
   "id": "039a4350-ed0c-4e91-a26a-99b5e3e04d76",
   "metadata": {},
   "outputs": [],
   "source": [
    "b = 5 + 9j"
   ]
  },
  {
   "cell_type": "code",
   "execution_count": 14,
   "id": "d4ed0719-a0e8-4016-9324-6432e54e04b9",
   "metadata": {},
   "outputs": [
    {
     "data": {
      "text/plain": [
       "(7+12j)"
      ]
     },
     "execution_count": 14,
     "metadata": {},
     "output_type": "execute_result"
    }
   ],
   "source": [
    "a+b"
   ]
  },
  {
   "cell_type": "code",
   "execution_count": 15,
   "id": "cbff9cbe-f572-4b57-bd66-a5a6f665f450",
   "metadata": {},
   "outputs": [
    {
     "data": {
      "text/plain": [
       "(-3-6j)"
      ]
     },
     "execution_count": 15,
     "metadata": {},
     "output_type": "execute_result"
    }
   ],
   "source": [
    "a-b"
   ]
  },
  {
   "cell_type": "code",
   "execution_count": 16,
   "id": "520fb01c-df84-4ef0-afff-4dd3be774086",
   "metadata": {},
   "outputs": [
    {
     "data": {
      "text/plain": [
       "(-17+33j)"
      ]
     },
     "execution_count": 16,
     "metadata": {},
     "output_type": "execute_result"
    }
   ],
   "source": [
    "a*b"
   ]
  },
  {
   "cell_type": "code",
   "execution_count": 18,
   "id": "48a18bbd-99c0-4d99-b8fb-a3c0ccf569fe",
   "metadata": {},
   "outputs": [
    {
     "data": {
      "text/plain": [
       "int"
      ]
     },
     "execution_count": 18,
     "metadata": {},
     "output_type": "execute_result"
    }
   ],
   "source": [
    "type(a)"
   ]
  },
  {
   "cell_type": "code",
   "execution_count": 19,
   "id": "0a4cfb00-7d39-431e-8cca-dbcb582d0117",
   "metadata": {},
   "outputs": [
    {
     "data": {
      "text/plain": [
       "complex"
      ]
     },
     "execution_count": 19,
     "metadata": {},
     "output_type": "execute_result"
    }
   ],
   "source": [
    "type(b)"
   ]
  },
  {
   "cell_type": "code",
   "execution_count": 20,
   "id": "a1770198-20d4-4eec-ada0-b57a41ca1753",
   "metadata": {},
   "outputs": [],
   "source": [
    "b = 20.345"
   ]
  },
  {
   "cell_type": "code",
   "execution_count": 21,
   "id": "93e77505-6836-445a-80f5-d919e4994096",
   "metadata": {},
   "outputs": [
    {
     "data": {
      "text/plain": [
       "float"
      ]
     },
     "execution_count": 21,
     "metadata": {},
     "output_type": "execute_result"
    }
   ],
   "source": [
    "type(b)"
   ]
  },
  {
   "cell_type": "code",
   "execution_count": 22,
   "id": "fbbf0004-c2a9-4ef7-b44d-57f9f8cfb96d",
   "metadata": {},
   "outputs": [],
   "source": [
    "fruits = [\"apple\",\"banana\",\"cherry\", \"banana\"]"
   ]
  },
  {
   "cell_type": "code",
   "execution_count": 24,
   "id": "b2bc5826-f720-4b2c-8183-222e69371710",
   "metadata": {},
   "outputs": [
    {
     "data": {
      "text/plain": [
       "list"
      ]
     },
     "execution_count": 24,
     "metadata": {},
     "output_type": "execute_result"
    }
   ],
   "source": [
    "type(fruits)"
   ]
  },
  {
   "cell_type": "code",
   "execution_count": 25,
   "id": "d84af292-8095-4f5c-bf23-0042a3c76568",
   "metadata": {},
   "outputs": [
    {
     "ename": "AttributeError",
     "evalue": "'list' object has no attribute 'add'",
     "output_type": "error",
     "traceback": [
      "\u001b[1;31m---------------------------------------------------------------------------\u001b[0m",
      "\u001b[1;31mAttributeError\u001b[0m                            Traceback (most recent call last)",
      "Cell \u001b[1;32mIn[25], line 1\u001b[0m\n\u001b[1;32m----> 1\u001b[0m fruits\u001b[38;5;241m.\u001b[39madd(\u001b[38;5;124m\"\u001b[39m\u001b[38;5;124mGrapes\u001b[39m\u001b[38;5;124m\"\u001b[39m)\n",
      "\u001b[1;31mAttributeError\u001b[0m: 'list' object has no attribute 'add'"
     ]
    }
   ],
   "source": [
    "fruits.add(\"Grapes\")"
   ]
  },
  {
   "cell_type": "code",
   "execution_count": 26,
   "id": "b6fb94d0-5e0d-4ac8-a495-7c08f410c901",
   "metadata": {},
   "outputs": [],
   "source": [
    "fruits.append(\"grapes\")"
   ]
  },
  {
   "cell_type": "code",
   "execution_count": 27,
   "id": "1a4f57e2-fe77-480f-8dbf-ceac1c959106",
   "metadata": {},
   "outputs": [
    {
     "ename": "NameError",
     "evalue": "name 'frutis' is not defined",
     "output_type": "error",
     "traceback": [
      "\u001b[1;31m---------------------------------------------------------------------------\u001b[0m",
      "\u001b[1;31mNameError\u001b[0m                                 Traceback (most recent call last)",
      "Cell \u001b[1;32mIn[27], line 1\u001b[0m\n\u001b[1;32m----> 1\u001b[0m frutis\n",
      "\u001b[1;31mNameError\u001b[0m: name 'frutis' is not defined"
     ]
    }
   ],
   "source": [
    "frutis"
   ]
  },
  {
   "cell_type": "code",
   "execution_count": 28,
   "id": "3c81f6f8-fa60-41c0-8dfe-cd90868d1762",
   "metadata": {},
   "outputs": [
    {
     "data": {
      "text/plain": [
       "['apple', 'banana', 'cherry', 'banana', 'grapes']"
      ]
     },
     "execution_count": 28,
     "metadata": {},
     "output_type": "execute_result"
    }
   ],
   "source": [
    "fruits"
   ]
  },
  {
   "cell_type": "code",
   "execution_count": 31,
   "id": "72646ec3-5f32-49d0-9532-d4c5340f8e0f",
   "metadata": {},
   "outputs": [
    {
     "data": {
      "text/plain": [
       "'banana'"
      ]
     },
     "execution_count": 31,
     "metadata": {},
     "output_type": "execute_result"
    }
   ],
   "source": [
    "fruits[1]"
   ]
  },
  {
   "cell_type": "code",
   "execution_count": 32,
   "id": "0da86264-017d-49f9-81ac-5bf463b5f0c6",
   "metadata": {},
   "outputs": [],
   "source": [
    "data = (\"apple\",\"banana\",\"cherry\", \"banana\")"
   ]
  },
  {
   "cell_type": "code",
   "execution_count": 33,
   "id": "988e3eb9-69f3-4624-9595-a5e0ad21d72a",
   "metadata": {},
   "outputs": [
    {
     "data": {
      "text/plain": [
       "tuple"
      ]
     },
     "execution_count": 33,
     "metadata": {},
     "output_type": "execute_result"
    }
   ],
   "source": [
    "type(data)"
   ]
  },
  {
   "cell_type": "code",
   "execution_count": 34,
   "id": "b22b7bf4-dd8c-4bcc-9d36-42494e9cb78a",
   "metadata": {},
   "outputs": [
    {
     "ename": "AttributeError",
     "evalue": "'tuple' object has no attribute 'append'",
     "output_type": "error",
     "traceback": [
      "\u001b[1;31m---------------------------------------------------------------------------\u001b[0m",
      "\u001b[1;31mAttributeError\u001b[0m                            Traceback (most recent call last)",
      "Cell \u001b[1;32mIn[34], line 1\u001b[0m\n\u001b[1;32m----> 1\u001b[0m data\u001b[38;5;241m.\u001b[39mappend(\u001b[38;5;124m\"\u001b[39m\u001b[38;5;124mgrapes\u001b[39m\u001b[38;5;124m\"\u001b[39m)\n",
      "\u001b[1;31mAttributeError\u001b[0m: 'tuple' object has no attribute 'append'"
     ]
    }
   ],
   "source": [
    "data.append(\"grapes\")"
   ]
  },
  {
   "cell_type": "code",
   "execution_count": 35,
   "id": "87824af0-22f6-4b56-b11b-6d156e5642d7",
   "metadata": {},
   "outputs": [],
   "source": [
    "data = (\"apple\",\"banana\",\"cherry\", \"banana\",\"cherry\")"
   ]
  },
  {
   "cell_type": "code",
   "execution_count": 36,
   "id": "b2111ab0-d2bf-4c52-8ddb-119cc1556c51",
   "metadata": {},
   "outputs": [
    {
     "data": {
      "text/plain": [
       "('apple', 'banana', 'cherry', 'banana', 'cherry')"
      ]
     },
     "execution_count": 36,
     "metadata": {},
     "output_type": "execute_result"
    }
   ],
   "source": [
    "data"
   ]
  },
  {
   "cell_type": "code",
   "execution_count": 37,
   "id": "326a113e-cb46-40f8-a66d-13696e7963fa",
   "metadata": {},
   "outputs": [],
   "source": [
    "data1 = {\"apple\",\"banana\",\"cherry\", \"banana\",\"cherry\"}"
   ]
  },
  {
   "cell_type": "code",
   "execution_count": 38,
   "id": "01239456-57c2-4879-a919-0bc63ea08ddd",
   "metadata": {},
   "outputs": [
    {
     "data": {
      "text/plain": [
       "set"
      ]
     },
     "execution_count": 38,
     "metadata": {},
     "output_type": "execute_result"
    }
   ],
   "source": [
    "type(data1)"
   ]
  },
  {
   "cell_type": "code",
   "execution_count": 39,
   "id": "3bdd3d43-f187-46b3-98fd-95d3c19ca5bb",
   "metadata": {},
   "outputs": [
    {
     "data": {
      "text/plain": [
       "{'apple', 'banana', 'cherry'}"
      ]
     },
     "execution_count": 39,
     "metadata": {},
     "output_type": "execute_result"
    }
   ],
   "source": [
    "data1"
   ]
  },
  {
   "cell_type": "code",
   "execution_count": 40,
   "id": "e753a339-7cb6-4b0a-9557-a21661496fc8",
   "metadata": {},
   "outputs": [],
   "source": [
    " temp = True"
   ]
  },
  {
   "cell_type": "code",
   "execution_count": 41,
   "id": "81209e55-0834-4ecc-abcf-a62413a0ced6",
   "metadata": {},
   "outputs": [
    {
     "data": {
      "text/plain": [
       "bool"
      ]
     },
     "execution_count": 41,
     "metadata": {},
     "output_type": "execute_result"
    }
   ],
   "source": [
    "type(temp)"
   ]
  },
  {
   "cell_type": "code",
   "execution_count": 44,
   "id": "04986096-dc7b-4553-a53b-b908a8973c08",
   "metadata": {},
   "outputs": [
    {
     "name": "stdin",
     "output_type": "stream",
     "text": [
      " 10\n"
     ]
    }
   ],
   "source": [
    "x = input()"
   ]
  },
  {
   "cell_type": "code",
   "execution_count": 43,
   "id": "d4ec21f5-36f8-4fba-9e3f-ed565f6fff0f",
   "metadata": {},
   "outputs": [
    {
     "data": {
      "text/plain": [
       "'200'"
      ]
     },
     "execution_count": 43,
     "metadata": {},
     "output_type": "execute_result"
    }
   ],
   "source": [
    "x"
   ]
  },
  {
   "cell_type": "code",
   "execution_count": 45,
   "id": "379b0e7f-b58b-4854-b849-8fde62c843f3",
   "metadata": {},
   "outputs": [
    {
     "name": "stdin",
     "output_type": "stream",
     "text": [
      "Enter a value 100\n",
      "Enter b value 300\n"
     ]
    }
   ],
   "source": [
    "a = input(\"Enter a value\")\n",
    "b = input(\"Enter b value\")"
   ]
  },
  {
   "cell_type": "code",
   "execution_count": 46,
   "id": "4b5e155a-8c36-4130-b55f-552f40c15ce9",
   "metadata": {},
   "outputs": [],
   "source": [
    "total = a+b"
   ]
  },
  {
   "cell_type": "code",
   "execution_count": 47,
   "id": "3c529325-5c7c-4501-95e4-3f39b559f55d",
   "metadata": {},
   "outputs": [
    {
     "name": "stdout",
     "output_type": "stream",
     "text": [
      "The sum of  100  and  300  is  100300\n"
     ]
    }
   ],
   "source": [
    "print(\"The sum of \", a, \" and \",b,\" is \", total)"
   ]
  },
  {
   "cell_type": "code",
   "execution_count": 48,
   "id": "9f555127-4588-473b-8379-1f0bf9b82f43",
   "metadata": {},
   "outputs": [
    {
     "data": {
      "text/plain": [
       "str"
      ]
     },
     "execution_count": 48,
     "metadata": {},
     "output_type": "execute_result"
    }
   ],
   "source": [
    "type(a)"
   ]
  },
  {
   "cell_type": "code",
   "execution_count": 49,
   "id": "47e2fd92-bc0a-4c56-8428-3d94a2a79ef9",
   "metadata": {},
   "outputs": [
    {
     "data": {
      "text/plain": [
       "str"
      ]
     },
     "execution_count": 49,
     "metadata": {},
     "output_type": "execute_result"
    }
   ],
   "source": [
    "type(b)"
   ]
  },
  {
   "cell_type": "code",
   "execution_count": 50,
   "id": "3e5a3705-48ff-4a89-8dc7-753645c17b0c",
   "metadata": {},
   "outputs": [
    {
     "name": "stdin",
     "output_type": "stream",
     "text": [
      "Enter a value 100\n",
      "Enter b value 200\n"
     ]
    }
   ],
   "source": [
    "a = int(input(\"Enter a value\"))\n",
    "b = int(input(\"Enter b value\"))"
   ]
  },
  {
   "cell_type": "code",
   "execution_count": 51,
   "id": "19c65cfd-86e5-4202-9fe6-612644d19e63",
   "metadata": {},
   "outputs": [
    {
     "name": "stdout",
     "output_type": "stream",
     "text": [
      "The sum of  100  and  200  is  100300\n"
     ]
    }
   ],
   "source": [
    "print(\"The sum of \", a, \" and \",b,\" is \", total)"
   ]
  },
  {
   "cell_type": "code",
   "execution_count": 53,
   "id": "a4245d66-5e5c-498d-b0b0-c70b6731060f",
   "metadata": {},
   "outputs": [],
   "source": [
    "total = a + b"
   ]
  },
  {
   "cell_type": "code",
   "execution_count": 54,
   "id": "abf3e27f-7580-4ea8-8bdc-486f5f0f82f3",
   "metadata": {},
   "outputs": [
    {
     "name": "stdout",
     "output_type": "stream",
     "text": [
      "The sum of  100  and  200  is  300\n"
     ]
    }
   ],
   "source": [
    "print(\"The sum of \", a, \" and \",b,\" is \", total)"
   ]
  },
  {
   "cell_type": "code",
   "execution_count": 55,
   "id": "9e3f00b0-572c-443a-82ce-6c714be515d2",
   "metadata": {},
   "outputs": [
    {
     "data": {
      "text/plain": [
       "int"
      ]
     },
     "execution_count": 55,
     "metadata": {},
     "output_type": "execute_result"
    }
   ],
   "source": [
    "type(a)"
   ]
  },
  {
   "cell_type": "code",
   "execution_count": 57,
   "id": "383ae6f8-f695-4f75-91de-847f8ba574a3",
   "metadata": {},
   "outputs": [
    {
     "name": "stdin",
     "output_type": "stream",
     "text": [
      "Enter a integer value 100\n"
     ]
    },
    {
     "name": "stdout",
     "output_type": "stream",
     "text": [
      "100\n"
     ]
    },
    {
     "data": {
      "text/plain": [
       "int"
      ]
     },
     "execution_count": 57,
     "metadata": {},
     "output_type": "execute_result"
    }
   ],
   "source": [
    "a = int(input(\"Enter a integer value\"))\n",
    "print(a)\n",
    "type(a)"
   ]
  },
  {
   "cell_type": "code",
   "execution_count": 58,
   "id": "866200c4-4a30-4826-8730-4f6332080df8",
   "metadata": {},
   "outputs": [
    {
     "name": "stdin",
     "output_type": "stream",
     "text": [
      "Enter a integer value 10.20\n"
     ]
    },
    {
     "name": "stdout",
     "output_type": "stream",
     "text": [
      "10.2\n"
     ]
    },
    {
     "data": {
      "text/plain": [
       "float"
      ]
     },
     "execution_count": 58,
     "metadata": {},
     "output_type": "execute_result"
    }
   ],
   "source": [
    "a =float(input(\"Enter a integer value\"))\n",
    "print(a)\n",
    "type(a)"
   ]
  },
  {
   "cell_type": "code",
   "execution_count": 59,
   "id": "d9406354-c272-4b9b-9b78-1d411ba92d8c",
   "metadata": {},
   "outputs": [
    {
     "data": {
      "text/plain": [
       "210.2"
      ]
     },
     "execution_count": 59,
     "metadata": {},
     "output_type": "execute_result"
    }
   ],
   "source": [
    "a+b"
   ]
  },
  {
   "cell_type": "code",
   "execution_count": 60,
   "id": "800d5bc0-9411-416e-bedc-62142933aa97",
   "metadata": {},
   "outputs": [
    {
     "data": {
      "text/plain": [
       "-189.8"
      ]
     },
     "execution_count": 60,
     "metadata": {},
     "output_type": "execute_result"
    }
   ],
   "source": [
    "a-b"
   ]
  },
  {
   "cell_type": "code",
   "execution_count": 61,
   "id": "c24d9244-2c39-48fe-a547-c498f67ff169",
   "metadata": {},
   "outputs": [
    {
     "data": {
      "text/plain": [
       "2039.9999999999998"
      ]
     },
     "execution_count": 61,
     "metadata": {},
     "output_type": "execute_result"
    }
   ],
   "source": [
    "a*b"
   ]
  },
  {
   "cell_type": "code",
   "execution_count": 62,
   "id": "ecc3e31a-04a6-440f-ae2d-5638c6dca92b",
   "metadata": {},
   "outputs": [
    {
     "data": {
      "text/plain": [
       "0.051"
      ]
     },
     "execution_count": 62,
     "metadata": {},
     "output_type": "execute_result"
    }
   ],
   "source": [
    "a/b"
   ]
  },
  {
   "cell_type": "code",
   "execution_count": 63,
   "id": "8b88436b-7512-4747-8815-9311931d003d",
   "metadata": {},
   "outputs": [
    {
     "data": {
      "text/plain": [
       "10.2"
      ]
     },
     "execution_count": 63,
     "metadata": {},
     "output_type": "execute_result"
    }
   ],
   "source": [
    "a%b"
   ]
  },
  {
   "cell_type": "code",
   "execution_count": 64,
   "id": "c92b9e80-a440-401e-beea-9d179c4a85ec",
   "metadata": {},
   "outputs": [
    {
     "data": {
      "text/plain": [
       "0.0"
      ]
     },
     "execution_count": 64,
     "metadata": {},
     "output_type": "execute_result"
    }
   ],
   "source": [
    "a//b"
   ]
  },
  {
   "cell_type": "code",
   "execution_count": 65,
   "id": "296cf6fb-daec-44c6-910d-6898911b5163",
   "metadata": {},
   "outputs": [
    {
     "data": {
      "text/plain": [
       "5.24848973787079e+201"
      ]
     },
     "execution_count": 65,
     "metadata": {},
     "output_type": "execute_result"
    }
   ],
   "source": [
    "a**b"
   ]
  },
  {
   "cell_type": "code",
   "execution_count": 66,
   "id": "2c78683b-00f1-4b7e-8a36-760759064054",
   "metadata": {},
   "outputs": [
    {
     "data": {
      "text/plain": [
       "False"
      ]
     },
     "execution_count": 66,
     "metadata": {},
     "output_type": "execute_result"
    }
   ],
   "source": [
    "  a > b"
   ]
  },
  {
   "cell_type": "code",
   "execution_count": 67,
   "id": "93caff25-77d8-40d6-8681-0e87bb9a7e29",
   "metadata": {},
   "outputs": [
    {
     "data": {
      "text/plain": [
       "False"
      ]
     },
     "execution_count": 67,
     "metadata": {},
     "output_type": "execute_result"
    }
   ],
   "source": [
    "b < a"
   ]
  },
  {
   "cell_type": "code",
   "execution_count": 68,
   "id": "def5ec3a-591b-436b-8130-e49d4533ca2a",
   "metadata": {},
   "outputs": [
    {
     "data": {
      "text/plain": [
       "True"
      ]
     },
     "execution_count": 68,
     "metadata": {},
     "output_type": "execute_result"
    }
   ],
   "source": [
    "b > a"
   ]
  },
  {
   "cell_type": "code",
   "execution_count": 69,
   "id": "e74414b0-91ad-45c0-a212-848e34e674a8",
   "metadata": {},
   "outputs": [
    {
     "data": {
      "text/plain": [
       "False"
      ]
     },
     "execution_count": 69,
     "metadata": {},
     "output_type": "execute_result"
    }
   ],
   "source": [
    "( a > b) and ( b == 1 )"
   ]
  },
  {
   "cell_type": "code",
   "execution_count": 70,
   "id": "f254d479-8527-4625-8e4a-2e8eb6673ac4",
   "metadata": {},
   "outputs": [
    {
     "data": {
      "text/plain": [
       "True"
      ]
     },
     "execution_count": 70,
     "metadata": {},
     "output_type": "execute_result"
    }
   ],
   "source": [
    "not (a >b)"
   ]
  },
  {
   "cell_type": "code",
   "execution_count": 71,
   "id": "874511c9-341b-4d16-ac48-ce2457dd47e1",
   "metadata": {},
   "outputs": [],
   "source": [
    " a = 100"
   ]
  },
  {
   "cell_type": "code",
   "execution_count": 72,
   "id": "d4d7a3ca-780d-4f46-9311-1ac7ad75bac0",
   "metadata": {},
   "outputs": [],
   "source": [
    "b = 100"
   ]
  },
  {
   "cell_type": "code",
   "execution_count": 73,
   "id": "fc934728-3465-496d-84f8-9e657385d099",
   "metadata": {},
   "outputs": [],
   "source": [
    "a = b = 2000"
   ]
  },
  {
   "cell_type": "code",
   "execution_count": 74,
   "id": "583585f3-3664-4a0e-b6be-5133034259a9",
   "metadata": {},
   "outputs": [
    {
     "data": {
      "text/plain": [
       "2000"
      ]
     },
     "execution_count": 74,
     "metadata": {},
     "output_type": "execute_result"
    }
   ],
   "source": [
    "b"
   ]
  },
  {
   "cell_type": "code",
   "execution_count": 75,
   "id": "0860a54a-32f7-4e36-9604-cc892a5b9f06",
   "metadata": {},
   "outputs": [
    {
     "data": {
      "text/plain": [
       "2000"
      ]
     },
     "execution_count": 75,
     "metadata": {},
     "output_type": "execute_result"
    }
   ],
   "source": [
    "a"
   ]
  },
  {
   "cell_type": "code",
   "execution_count": 83,
   "id": "42034e36-de9b-4760-a13a-089b37a0eea3",
   "metadata": {},
   "outputs": [
    {
     "ename": "ValueError",
     "evalue": "too many values to unpack (expected 3)",
     "output_type": "error",
     "traceback": [
      "\u001b[1;31m---------------------------------------------------------------------------\u001b[0m",
      "\u001b[1;31mValueError\u001b[0m                                Traceback (most recent call last)",
      "Cell \u001b[1;32mIn[83], line 1\u001b[0m\n\u001b[1;32m----> 1\u001b[0m a,b,c \u001b[38;5;241m=\u001b[39m \u001b[38;5;241m1000\u001b[39m, \u001b[38;5;241m2000\u001b[39m, \u001b[38;5;241m3000\u001b[39m, \u001b[38;5;241m4000\u001b[39m\n",
      "\u001b[1;31mValueError\u001b[0m: too many values to unpack (expected 3)"
     ]
    }
   ],
   "source": [
    "a,b,c = 1000, 2000, 3000, 4000"
   ]
  },
  {
   "cell_type": "code",
   "execution_count": 78,
   "id": "407303ec-537e-4666-bda5-9982b13a73e5",
   "metadata": {},
   "outputs": [
    {
     "data": {
      "text/plain": [
       "2000"
      ]
     },
     "execution_count": 78,
     "metadata": {},
     "output_type": "execute_result"
    }
   ],
   "source": [
    "b"
   ]
  },
  {
   "cell_type": "code",
   "execution_count": 79,
   "id": "b98be387-8ba2-48fe-80fb-70a93b0370b0",
   "metadata": {},
   "outputs": [
    {
     "data": {
      "text/plain": [
       "1000"
      ]
     },
     "execution_count": 79,
     "metadata": {},
     "output_type": "execute_result"
    }
   ],
   "source": [
    "a"
   ]
  },
  {
   "cell_type": "code",
   "execution_count": 82,
   "id": "9e9147d4-5ee3-4980-b054-1d61f1c1a24e",
   "metadata": {},
   "outputs": [
    {
     "data": {
      "text/plain": [
       "3000"
      ]
     },
     "execution_count": 82,
     "metadata": {},
     "output_type": "execute_result"
    }
   ],
   "source": [
    "c"
   ]
  },
  {
   "cell_type": "code",
   "execution_count": 84,
   "id": "8a057363-1953-42f5-9046-165983713e2f",
   "metadata": {},
   "outputs": [],
   "source": [
    "name = \"Praveen\""
   ]
  },
  {
   "cell_type": "code",
   "execution_count": 85,
   "id": "4309384a-deff-4f5d-988e-a5ec77cf6438",
   "metadata": {},
   "outputs": [
    {
     "data": {
      "text/plain": [
       "'Praveen'"
      ]
     },
     "execution_count": 85,
     "metadata": {},
     "output_type": "execute_result"
    }
   ],
   "source": [
    "name"
   ]
  },
  {
   "cell_type": "code",
   "execution_count": 86,
   "id": "9a75be69-d246-4299-8dee-aafb9a762f77",
   "metadata": {},
   "outputs": [],
   "source": [
    "name = 'kumar'"
   ]
  },
  {
   "cell_type": "code",
   "execution_count": 87,
   "id": "e6fc766c-b49a-477a-9cd3-03e2ff2555f6",
   "metadata": {},
   "outputs": [
    {
     "data": {
      "text/plain": [
       "'kumar'"
      ]
     },
     "execution_count": 87,
     "metadata": {},
     "output_type": "execute_result"
    }
   ],
   "source": [
    "name"
   ]
  },
  {
   "cell_type": "code",
   "execution_count": 88,
   "id": "3fbc3100-22f9-469e-a341-9515d7e5e398",
   "metadata": {},
   "outputs": [],
   "source": [
    "name = \"\"\"kumar\"\"\""
   ]
  },
  {
   "cell_type": "code",
   "execution_count": 89,
   "id": "e7f6bb44-bf03-4ac2-a613-c14dacba4fc4",
   "metadata": {},
   "outputs": [
    {
     "data": {
      "text/plain": [
       "'kumar'"
      ]
     },
     "execution_count": 89,
     "metadata": {},
     "output_type": "execute_result"
    }
   ],
   "source": [
    "name"
   ]
  },
  {
   "cell_type": "code",
   "execution_count": 91,
   "id": "dc7d7bb2-1814-48c4-9a39-7bc8e4b730fc",
   "metadata": {},
   "outputs": [
    {
     "name": "stdout",
     "output_type": "stream",
     "text": [
      "This will executes\n"
     ]
    }
   ],
   "source": [
    "# print(\"Hello World,,!\")\n",
    "print(\"This will executes\")"
   ]
  },
  {
   "cell_type": "code",
   "execution_count": 92,
   "id": "629f43e8-6646-49f6-bcf9-60cf7c199037",
   "metadata": {},
   "outputs": [],
   "source": [
    "def display():\n",
    "\tprint(\"THis is the first line in display method\")\n",
    "\tprint(\"This is the second line in display method\")\n",
    "\tprint(\"This is the third line in display method\")"
   ]
  },
  {
   "cell_type": "code",
   "execution_count": 93,
   "id": "41941009-00ca-4a37-a058-b30d989d97aa",
   "metadata": {},
   "outputs": [
    {
     "name": "stdout",
     "output_type": "stream",
     "text": [
      "THis is the first line in display method\n",
      "This is the second line in display method\n",
      "This is the third line in display method\n"
     ]
    }
   ],
   "source": [
    "display()"
   ]
  },
  {
   "cell_type": "code",
   "execution_count": 94,
   "id": "3bfdc1b8-2781-4342-b595-273741ebb0dd",
   "metadata": {},
   "outputs": [
    {
     "name": "stdout",
     "output_type": "stream",
     "text": [
      "THis is the first line in display method\n",
      "This is the second line in display method\n",
      "This is the third line in display method\n"
     ]
    }
   ],
   "source": [
    "display()"
   ]
  },
  {
   "cell_type": "code",
   "execution_count": 101,
   "id": "dd3edd44-d61f-4a4e-8eda-6d0c1571d0a2",
   "metadata": {},
   "outputs": [],
   "source": [
    "def greeting(name):\n",
    "    print(\"Hello \"+name+ \" Welcome to Python Functions\")"
   ]
  },
  {
   "cell_type": "code",
   "execution_count": 102,
   "id": "0977df98-3424-4d68-95f8-f2ddc6b6a329",
   "metadata": {},
   "outputs": [
    {
     "name": "stdout",
     "output_type": "stream",
     "text": [
      "Hello praveen Welcome to Python Functions\n"
     ]
    }
   ],
   "source": [
    "greeting(\"praveen\")"
   ]
  },
  {
   "cell_type": "code",
   "execution_count": 98,
   "id": "b3186d9c-27b9-480c-badd-ab0a41f6c059",
   "metadata": {},
   "outputs": [
    {
     "name": "stdout",
     "output_type": "stream",
     "text": [
      "Hello Kumar Welcome to Python Functions\n"
     ]
    }
   ],
   "source": [
    "greeting(\"Kumar\")"
   ]
  },
  {
   "cell_type": "code",
   "execution_count": 110,
   "id": "79a45ae8-9268-4899-bc4a-b4a191f652c6",
   "metadata": {},
   "outputs": [],
   "source": [
    "def addition(a,b):\n",
    "    return a+b\n",
    "def substraction(a,b):\n",
    "    return a-b\n",
    "def product(a,b):\n",
    "    return a*b\n",
    "\n",
    "def power(a,b):\n",
    "    return a ** b"
   ]
  },
  {
   "cell_type": "code",
   "execution_count": 105,
   "id": "3cf69038-fd53-42ab-935d-37d713aeedae",
   "metadata": {},
   "outputs": [
    {
     "name": "stdout",
     "output_type": "stream",
     "text": [
      "30\n"
     ]
    }
   ],
   "source": [
    "c = addition(20,10) # c = 30\n",
    "print(c)"
   ]
  },
  {
   "cell_type": "code",
   "execution_count": 107,
   "id": "c8a482b8-3025-489f-89d6-89615b89d800",
   "metadata": {},
   "outputs": [
    {
     "name": "stdout",
     "output_type": "stream",
     "text": [
      "The addtion is  30\n",
      "The substraction is  -10\n",
      "The product is  200\n"
     ]
    }
   ],
   "source": [
    "print(\"The addtion is \", addition(10))\n",
    "print(\"The substraction is \", substraction(10,20))\n",
    "print(\"The product is \", product(10,20))\n"
   ]
  },
  {
   "cell_type": "code",
   "execution_count": 109,
   "id": "dc61aa09-6ece-43fa-b18e-9b2d3ce6b0bc",
   "metadata": {},
   "outputs": [
    {
     "ename": "TypeError",
     "evalue": "addition() takes 2 positional arguments but 3 were given",
     "output_type": "error",
     "traceback": [
      "\u001b[1;31m---------------------------------------------------------------------------\u001b[0m",
      "\u001b[1;31mTypeError\u001b[0m                                 Traceback (most recent call last)",
      "Cell \u001b[1;32mIn[109], line 1\u001b[0m\n\u001b[1;32m----> 1\u001b[0m \u001b[38;5;28mprint\u001b[39m(\u001b[38;5;124m\"\u001b[39m\u001b[38;5;124mThe addtion is \u001b[39m\u001b[38;5;124m\"\u001b[39m, addition(\u001b[38;5;241m10\u001b[39m,\u001b[38;5;241m20\u001b[39m,\u001b[38;5;241m40\u001b[39m))\n",
      "\u001b[1;31mTypeError\u001b[0m: addition() takes 2 positional arguments but 3 were given"
     ]
    }
   ],
   "source": [
    "print(\"The addtion is \", addition(10,20,40))"
   ]
  },
  {
   "cell_type": "code",
   "execution_count": 117,
   "id": "a6c1f5f6-cbff-46eb-85c2-520ebc6f1d3b",
   "metadata": {},
   "outputs": [
    {
     "name": "stdout",
     "output_type": "stream",
     "text": [
      "8\n"
     ]
    }
   ],
   "source": [
    "print(power(b=3,a=2))"
   ]
  },
  {
   "cell_type": "code",
   "execution_count": 112,
   "id": "d62a3d19-1e8a-4038-af32-77036bc85ceb",
   "metadata": {},
   "outputs": [
    {
     "data": {
      "text/plain": [
       "8"
      ]
     },
     "execution_count": 112,
     "metadata": {},
     "output_type": "execute_result"
    }
   ],
   "source": [
    "result"
   ]
  },
  {
   "cell_type": "code",
   "execution_count": 118,
   "id": "2b5c65ba-bc7d-48b8-8cb5-3e95e579c618",
   "metadata": {},
   "outputs": [],
   "source": [
    "def pivalue():\n",
    "    return 3.1416"
   ]
  },
  {
   "cell_type": "code",
   "execution_count": 119,
   "id": "56eff45a-6429-44bb-89a0-cec5dee68dfe",
   "metadata": {},
   "outputs": [
    {
     "name": "stdout",
     "output_type": "stream",
     "text": [
      "3.1416\n"
     ]
    }
   ],
   "source": [
    "print(pivalue())"
   ]
  },
  {
   "cell_type": "code",
   "execution_count": 120,
   "id": "e305033d-60e7-4f82-a65f-0f0b3161ee0b",
   "metadata": {},
   "outputs": [],
   "source": [
    "data = [1,2,4,4,5]"
   ]
  },
  {
   "cell_type": "code",
   "execution_count": 121,
   "id": "ea18ea21-acfc-45e6-a1dd-be7184142f98",
   "metadata": {},
   "outputs": [
    {
     "data": {
      "text/plain": [
       "[1, 2, 4, 4, 5]"
      ]
     },
     "execution_count": 121,
     "metadata": {},
     "output_type": "execute_result"
    }
   ],
   "source": [
    "data"
   ]
  },
  {
   "cell_type": "code",
   "execution_count": 127,
   "id": "e0bbe383-de7a-4c82-abeb-98fb741f37ec",
   "metadata": {},
   "outputs": [],
   "source": [
    "def show_numbers(a,b,c):\n",
    "    print(a)\n",
    "    print(b)\n",
    "    print(c)"
   ]
  },
  {
   "cell_type": "code",
   "execution_count": 128,
   "id": "f6045756-16f4-445c-9111-90ea66d17170",
   "metadata": {},
   "outputs": [
    {
     "name": "stdout",
     "output_type": "stream",
     "text": [
      "10\n",
      "20\n",
      "30\n"
     ]
    }
   ],
   "source": [
    "show_numbers(10,20,30)"
   ]
  },
  {
   "cell_type": "code",
   "execution_count": 131,
   "id": "c96594fd-1b25-4eca-bd68-9d409d5c3c0b",
   "metadata": {},
   "outputs": [],
   "source": [
    "def show_numbers(**args):\n",
    "    for num in args:\n",
    "        print(num)"
   ]
  },
  {
   "cell_type": "code",
   "execution_count": 132,
   "id": "6d08a73d-162f-4192-95ee-3a84e58fa573",
   "metadata": {},
   "outputs": [
    {
     "ename": "TypeError",
     "evalue": "show_numbers() takes 0 positional arguments but 1 was given",
     "output_type": "error",
     "traceback": [
      "\u001b[1;31m---------------------------------------------------------------------------\u001b[0m",
      "\u001b[1;31mTypeError\u001b[0m                                 Traceback (most recent call last)",
      "Cell \u001b[1;32mIn[132], line 1\u001b[0m\n\u001b[1;32m----> 1\u001b[0m show_numbers(\u001b[38;5;241m10\u001b[39m)\n",
      "\u001b[1;31mTypeError\u001b[0m: show_numbers() takes 0 positional arguments but 1 was given"
     ]
    }
   ],
   "source": [
    "show_numbers(10)"
   ]
  },
  {
   "cell_type": "code",
   "execution_count": 144,
   "id": "12d090c9-e164-42d6-b1a2-ca69afb7072c",
   "metadata": {},
   "outputs": [],
   "source": [
    "def show(*args):\n",
    "    for n in args:\n",
    "        print(n)"
   ]
  },
  {
   "cell_type": "code",
   "execution_count": 146,
   "id": "f90a1fb4-16f4-4d5a-9398-9761cd4c85c5",
   "metadata": {},
   "outputs": [
    {
     "name": "stdout",
     "output_type": "stream",
     "text": [
      "10\n",
      "200\n",
      "50\n",
      "79\n",
      "56\n"
     ]
    }
   ],
   "source": [
    "show(10) # [10]"
   ]
  },
  {
   "cell_type": "code",
   "execution_count": 147,
   "id": "266213a3-cad2-45ef-8de6-de5ff4c45afb",
   "metadata": {},
   "outputs": [
    {
     "name": "stdout",
     "output_type": "stream",
     "text": [
      "10\n",
      "20\n"
     ]
    }
   ],
   "source": [
    "show(10,20) # [10,20]"
   ]
  },
  {
   "cell_type": "code",
   "execution_count": 148,
   "id": "3b5959b8-9f16-4a7c-b5b2-0ab52db076d0",
   "metadata": {},
   "outputs": [
    {
     "name": "stdout",
     "output_type": "stream",
     "text": [
      "10\n",
      "20\n",
      "30\n"
     ]
    }
   ],
   "source": [
    "show(10,20,30) # [10,20,30]"
   ]
  },
  {
   "cell_type": "code",
   "execution_count": 150,
   "id": "ceed2170-69c3-44db-ada8-a3ce686565cd",
   "metadata": {},
   "outputs": [],
   "source": [
    "show() #[]"
   ]
  },
  {
   "cell_type": "code",
   "execution_count": 151,
   "id": "8e2c01e8-bd63-4ac3-9761-060fc45630d1",
   "metadata": {},
   "outputs": [
    {
     "name": "stdout",
     "output_type": "stream",
     "text": [
      "10\n",
      "praveen\n",
      "30\n",
      "234\n"
     ]
    }
   ],
   "source": [
    "show(10,\"praveen\",30,234)"
   ]
  },
  {
   "cell_type": "code",
   "execution_count": null,
   "id": "13e00684-de79-4ac0-913f-4c77bbccbed6",
   "metadata": {},
   "outputs": [],
   "source": []
  }
 ],
 "metadata": {
  "kernelspec": {
   "display_name": "Python [conda env:base] *",
   "language": "python",
   "name": "conda-base-py"
  },
  "language_info": {
   "codemirror_mode": {
    "name": "ipython",
    "version": 3
   },
   "file_extension": ".py",
   "mimetype": "text/x-python",
   "name": "python",
   "nbconvert_exporter": "python",
   "pygments_lexer": "ipython3",
   "version": "3.13.5"
  }
 },
 "nbformat": 4,
 "nbformat_minor": 5
}
