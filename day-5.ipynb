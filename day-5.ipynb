{
 "cells": [
  {
   "cell_type": "code",
   "execution_count": 1,
   "id": "907a0f32-cdb7-458e-8e1c-34a2ae743b30",
   "metadata": {},
   "outputs": [
    {
     "name": "stdout",
     "output_type": "stream",
     "text": [
      "Hello\n"
     ]
    }
   ],
   "source": [
    "print(\"Hello\")"
   ]
  },
  {
   "cell_type": "code",
   "execution_count": 32,
   "id": "1881b587-bf4a-4ff8-ba6b-8bf246955a62",
   "metadata": {},
   "outputs": [],
   "source": [
    "class Geometry:\n",
    "    height=10\n",
    "    def area(self):\n",
    "        self.length=10\n",
    "        self.breadth=20\n",
    "        print(\"The area is \", self.length*self.breadth)\n",
    "    def printHeight(self):\n",
    "        self.height=4\n",
    "        print(\"The Height is \", Geometry.height)"
   ]
  },
  {
   "cell_type": "code",
   "execution_count": 33,
   "id": "fa09185d-f99e-4a6e-b5fc-7096d8712632",
   "metadata": {},
   "outputs": [],
   "source": [
    "g1 = Geometry()"
   ]
  },
  {
   "cell_type": "code",
   "execution_count": 34,
   "id": "59e18995-864a-4bf1-97a0-5e3defddd05b",
   "metadata": {},
   "outputs": [
    {
     "name": "stdout",
     "output_type": "stream",
     "text": [
      "The area is  200\n",
      "The Height is  10\n"
     ]
    }
   ],
   "source": [
    "g1.area()\n",
    "g1.printHeight()"
   ]
  },
  {
   "cell_type": "code",
   "execution_count": 11,
   "id": "24b588aa-f939-46cc-9e02-eb3c082a25ce",
   "metadata": {},
   "outputs": [],
   "source": [
    "g2 = Geometry()"
   ]
  },
  {
   "cell_type": "code",
   "execution_count": 12,
   "id": "a55ffa19-4060-4c79-8ec9-d003d9466b16",
   "metadata": {},
   "outputs": [
    {
     "name": "stdout",
     "output_type": "stream",
     "text": [
      "The area is  200\n",
      "The Height is  10\n"
     ]
    }
   ],
   "source": [
    "g2. area()\n",
    "g2.printHeight()"
   ]
  },
  {
   "cell_type": "code",
   "execution_count": 36,
   "id": "f8e98a38-6792-4965-af17-f1d85a56d47b",
   "metadata": {},
   "outputs": [
    {
     "name": "stdout",
     "output_type": "stream",
     "text": [
      "The Height is  300\n"
     ]
    }
   ],
   "source": [
    "Geometry.height=300\n",
    "g2.printHeight()"
   ]
  },
  {
   "cell_type": "code",
   "execution_count": 37,
   "id": "d53f0f4e-b561-459d-b720-a805b53d67d6",
   "metadata": {},
   "outputs": [
    {
     "name": "stdout",
     "output_type": "stream",
     "text": [
      "The Height is  300\n"
     ]
    }
   ],
   "source": [
    "g1.printHeight()"
   ]
  },
  {
   "cell_type": "code",
   "execution_count": 18,
   "id": "a7b1eb25-6712-4a4f-8352-bed2d09c7370",
   "metadata": {},
   "outputs": [],
   "source": [
    "g1.length=2"
   ]
  },
  {
   "cell_type": "code",
   "execution_count": 44,
   "id": "c627f6d1-bc76-4f82-9623-c2f2a2dbe977",
   "metadata": {},
   "outputs": [],
   "source": [
    "class Employee:\n",
    "    def employeeDetails(self):\n",
    "        self.name=\"Kumar\"\n",
    "        self.desg=\"Manager\"\n",
    "        self.dept=\"finance\"\n",
    "    def printDetails(self):\n",
    "        print(\"Name is : \", self.name)\n",
    "        print(\"Department is \", self.dept)\n",
    "        print(\"Role is \", self.desg)"
   ]
  },
  {
   "cell_type": "code",
   "execution_count": 52,
   "id": "2edb7451-c5e2-41b2-b71c-3c1cc6886b47",
   "metadata": {},
   "outputs": [],
   "source": [
    "e1 = Employee()"
   ]
  },
  {
   "cell_type": "code",
   "execution_count": 54,
   "id": "c4eb03e6-5b6a-47ba-9a13-a3646c5410ef",
   "metadata": {},
   "outputs": [
    {
     "name": "stdout",
     "output_type": "stream",
     "text": [
      "Name is :  Kumar\n",
      "Department is  finance\n",
      "Role is  Manager\n"
     ]
    }
   ],
   "source": [
    "e1.employeeDetails()\n",
    "e1.printDetails()"
   ]
  },
  {
   "cell_type": "code",
   "execution_count": 50,
   "id": "0c86a594-28e7-4ffb-9ad5-9ecfab45ed1b",
   "metadata": {},
   "outputs": [],
   "source": [
    "e2 = Employee()"
   ]
  },
  {
   "cell_type": "code",
   "execution_count": 51,
   "id": "ac97631c-19d9-4732-b3cf-188773d3caf9",
   "metadata": {},
   "outputs": [
    {
     "name": "stdout",
     "output_type": "stream",
     "text": [
      "Name is :  Kumar\n",
      "Department is  finance\n",
      "Role is  Manager\n"
     ]
    }
   ],
   "source": [
    "e2.employeeDetails()\n",
    "e2.printDetails()"
   ]
  },
  {
   "cell_type": "code",
   "execution_count": 57,
   "id": "e06d8fba-f592-41d7-bf31-ef831d5d1bfd",
   "metadata": {},
   "outputs": [],
   "source": [
    "class Test:\n",
    "    def __init__(self):\n",
    "        self.name=\"Praveen\"\n",
    "        print(\"Inisde the constructor\")\n",
    "        print(\"Name of the candidate\", self.name)"
   ]
  },
  {
   "cell_type": "code",
   "execution_count": 58,
   "id": "cad617cc-a732-440f-b54d-34e8a3d78ff0",
   "metadata": {},
   "outputs": [
    {
     "name": "stdout",
     "output_type": "stream",
     "text": [
      "Inisde the constructor\n",
      "Name of the candidate Praveen\n"
     ]
    }
   ],
   "source": [
    "t = Test()"
   ]
  },
  {
   "cell_type": "code",
   "execution_count": 59,
   "id": "42280c58-a750-4829-99b5-4c5eefcc1812",
   "metadata": {},
   "outputs": [],
   "source": [
    "class Employee:\n",
    "    def __init__(self):\n",
    "        self.name=\"Kumar\"\n",
    "        self.desg=\"Manager\"\n",
    "        self.dept=\"finance\"\n",
    "    def printDetails(self):\n",
    "        print(\"Name is : \", self.name)\n",
    "        print(\"Department is \", self.dept)\n",
    "        print(\"Role is \", self.desg)"
   ]
  },
  {
   "cell_type": "code",
   "execution_count": 60,
   "id": "ea7fd9a7-36ad-4651-aff7-f16ff512c5de",
   "metadata": {},
   "outputs": [],
   "source": [
    "e1 = Employee()"
   ]
  },
  {
   "cell_type": "code",
   "execution_count": 61,
   "id": "963b9408-17ab-49a9-bba0-9b20fd381500",
   "metadata": {},
   "outputs": [
    {
     "name": "stdout",
     "output_type": "stream",
     "text": [
      "Name is :  Kumar\n",
      "Department is  finance\n",
      "Role is  Manager\n"
     ]
    }
   ],
   "source": [
    "e1.printDetails()"
   ]
  },
  {
   "cell_type": "code",
   "execution_count": 62,
   "id": "3df30b06-56bd-4258-9d71-408b0d68ff56",
   "metadata": {},
   "outputs": [],
   "source": [
    "e2 = Employee()"
   ]
  },
  {
   "cell_type": "code",
   "execution_count": 63,
   "id": "28b5a96a-14f2-4bec-bcbe-fdf3b9531794",
   "metadata": {},
   "outputs": [
    {
     "name": "stdout",
     "output_type": "stream",
     "text": [
      "Name is :  Kumar\n",
      "Department is  finance\n",
      "Role is  Manager\n"
     ]
    }
   ],
   "source": [
    "e2.printDetails()"
   ]
  },
  {
   "cell_type": "code",
   "execution_count": 120,
   "id": "4eb7611c-48c0-4752-8562-28cfeddac8a0",
   "metadata": {},
   "outputs": [],
   "source": [
    "class Employee:\n",
    "    def __init__(self, name, desg, dept):\n",
    "        self.name=name\n",
    "        self.desg=desg\n",
    "        self.dept=dept\n",
    "      \n",
    "    def printDetails(self):\n",
    "        print(\"Name is : \", self.name)\n",
    "        print(\"Department is \", self.dept)\n",
    "        print(\"Role is \", self.desg)\n",
    "\n",
    "    def __str__(self):\n",
    "        return f\"Name={self.name}, Department = {self.dept} and Designation= {self.desg}\""
   ]
  },
  {
   "cell_type": "code",
   "execution_count": 121,
   "id": "9ed8f95c-68df-4ca2-ac39-bfeccea8f7a4",
   "metadata": {},
   "outputs": [],
   "source": [
    "e3 = Employee(\"Ravi\",\"Lead\",\"Quality\")"
   ]
  },
  {
   "cell_type": "markdown",
   "id": "ca07b835-1e32-4685-ba46-b9e648b2173b",
   "metadata": {},
   "source": [
    "e3.printDetails()"
   ]
  },
  {
   "cell_type": "code",
   "execution_count": 122,
   "id": "2e86dc63-7da8-4f2e-9951-3a3dddeaf5f3",
   "metadata": {},
   "outputs": [
    {
     "name": "stdout",
     "output_type": "stream",
     "text": [
      "Name=Ravi, Department = Quality and Designation= Lead\n"
     ]
    }
   ],
   "source": [
    "print(e3)"
   ]
  },
  {
   "cell_type": "code",
   "execution_count": 84,
   "id": "d01c2f85-3812-4b1c-bdf0-e4cca2f8ca2f",
   "metadata": {},
   "outputs": [],
   "source": [
    "e4 = Employee(\"Kishore\",\"Manager\",\"Finance\")"
   ]
  },
  {
   "cell_type": "code",
   "execution_count": 85,
   "id": "b653dfd1-7bae-48b1-970c-41f5e096127e",
   "metadata": {},
   "outputs": [
    {
     "name": "stdout",
     "output_type": "stream",
     "text": [
      "Name is :  Kishore\n",
      "Department is  Finance\n",
      "Role is  Manager\n"
     ]
    }
   ],
   "source": [
    "e4.printDetails()"
   ]
  },
  {
   "cell_type": "code",
   "execution_count": 92,
   "id": "67b05599-4e81-4e19-afae-73f2d16a023d",
   "metadata": {},
   "outputs": [],
   "source": [
    "class FileOps:\n",
    "    def openfile(self):\n",
    "        print(\"File is opened for reading or writing\")\n",
    "    def readdata(self):\n",
    "        print(\"Data from file is read\")\n",
    "    def displayData(self):\n",
    "        print(\"Data which is read is diplayed on monitor\")"
   ]
  },
  {
   "cell_type": "code",
   "execution_count": 93,
   "id": "eb182884-48af-4e7d-a626-b24b30a2e7cf",
   "metadata": {},
   "outputs": [],
   "source": [
    "class FileOps:\n",
    "    def openfile(self):\n",
    "        print(\"File is opened for reading or writing\")\n",
    "    def readdata(self):\n",
    "        print(\"Data from file is read\")\n",
    "    def displayData(self):\n",
    "        print(\"Data which is read is diplayed on monitor\")"
   ]
  },
  {
   "cell_type": "code",
   "execution_count": 95,
   "id": "22fc85cd-8e45-4ecc-91c5-242bdd85e7d6",
   "metadata": {},
   "outputs": [
    {
     "name": "stdout",
     "output_type": "stream",
     "text": [
      "Data from file is read\n"
     ]
    }
   ],
   "source": [
    "f1.readdata()"
   ]
  },
  {
   "cell_type": "code",
   "execution_count": 114,
   "id": "267d4c6b-f28f-4370-9d6e-cd450850b49b",
   "metadata": {},
   "outputs": [],
   "source": [
    "class FileOps:\n",
    "    def __str__(self):\n",
    "        return \"Str method is called\"\n",
    "    def __init__(self,filename):\n",
    "        print(\"File \", filename, \" opened for reading or writing\")\n",
    "    def readdata(self):\n",
    "        print(\"Data from file is read\")\n",
    "    def displayData(self):\n",
    "        print(\"Data which is read is diplayed on monitor\")"
   ]
  },
  {
   "cell_type": "code",
   "execution_count": 115,
   "id": "74c98f07-c682-4fc6-b76b-25598804c048",
   "metadata": {},
   "outputs": [
    {
     "name": "stdout",
     "output_type": "stream",
     "text": [
      "File  f2.txt  opened for reading or writing\n"
     ]
    }
   ],
   "source": [
    "f1 = FileOps(\"f2.txt\")"
   ]
  },
  {
   "cell_type": "code",
   "execution_count": 98,
   "id": "d4d45519-bed8-44fd-97dd-34c258a73f75",
   "metadata": {},
   "outputs": [
    {
     "name": "stdout",
     "output_type": "stream",
     "text": [
      "Data from file is read\n"
     ]
    }
   ],
   "source": [
    "f1.readdata()"
   ]
  },
  {
   "cell_type": "code",
   "execution_count": 116,
   "id": "26eb9899-7823-4a95-8dd8-9b4cd5943a37",
   "metadata": {},
   "outputs": [
    {
     "name": "stdout",
     "output_type": "stream",
     "text": [
      "Str method is called\n"
     ]
    }
   ],
   "source": [
    "print(f1)"
   ]
  },
  {
   "cell_type": "code",
   "execution_count": 182,
   "id": "9c179c15-c217-46ce-aca0-650d2cde7a52",
   "metadata": {},
   "outputs": [],
   "source": [
    "class Box2D:\n",
    "    def __init__(self):\n",
    "        self.length=2\n",
    "        self.breadth=3\n",
    "        self.area= self.length*self.breadth\n",
    "    def _surfaceArea(self):\n",
    "        print(\"The area is \", self.area)\n",
    "    def __str__(self):\n",
    "        return f\"Length={self.length} and Breadth = {self.breadth}\""
   ]
  },
  {
   "cell_type": "code",
   "execution_count": 124,
   "id": "89f3b99a-76b4-459f-bb81-30f9fd67b8fa",
   "metadata": {},
   "outputs": [],
   "source": [
    "b1 = Box2D()"
   ]
  },
  {
   "cell_type": "code",
   "execution_count": 125,
   "id": "73a92384-ce0c-4b12-a633-2ccbd9a8e162",
   "metadata": {},
   "outputs": [
    {
     "name": "stdout",
     "output_type": "stream",
     "text": [
      "The surface area is  6\n"
     ]
    }
   ],
   "source": [
    "b1.surfaceArea()"
   ]
  },
  {
   "cell_type": "code",
   "execution_count": 126,
   "id": "54891ffd-1a03-400a-8e56-14b81544c5c9",
   "metadata": {},
   "outputs": [],
   "source": [
    "class Box3D:\n",
    "    def __init__(self):\n",
    "        self.length=2\n",
    "        self.breadth=3\n",
    "        self.height=2\n",
    "    def surfaceArea(self):\n",
    "        print(\"The surface area is \", self.length*self.breadth)\n",
    "    def volume(self):\n",
    "        print(\"The volume is \", self.length * self.breadth * self.height)\n",
    "    "
   ]
  },
  {
   "cell_type": "code",
   "execution_count": 127,
   "id": "854297d0-4f67-4098-9c63-8c562b759ecd",
   "metadata": {},
   "outputs": [],
   "source": [
    "b2 = Box3D()"
   ]
  },
  {
   "cell_type": "code",
   "execution_count": 128,
   "id": "8e58fd05-854f-49b1-827b-e1545b4feced",
   "metadata": {},
   "outputs": [
    {
     "name": "stdout",
     "output_type": "stream",
     "text": [
      "The surface area is  6\n",
      "The volume is  12\n"
     ]
    }
   ],
   "source": [
    "b2.surfaceArea()\n",
    "b2.volume()"
   ]
  },
  {
   "cell_type": "code",
   "execution_count": 129,
   "id": "95b31b1c-93ba-4bc8-8439-3b0c3328454d",
   "metadata": {},
   "outputs": [],
   "source": [
    "class Box3d (Box2D):\n",
    "    pass\n",
    "    "
   ]
  },
  {
   "cell_type": "code",
   "execution_count": 130,
   "id": "c602447f-d9ca-4927-9cf2-1ee69b492ffc",
   "metadata": {},
   "outputs": [],
   "source": [
    "b2 = Box3d()"
   ]
  },
  {
   "cell_type": "code",
   "execution_count": 131,
   "id": "cac65209-352c-4ab8-a7a1-82742ceb6a0d",
   "metadata": {},
   "outputs": [
    {
     "name": "stdout",
     "output_type": "stream",
     "text": [
      "The surface area is  6\n"
     ]
    }
   ],
   "source": [
    "b2.surfaceArea()"
   ]
  },
  {
   "cell_type": "code",
   "execution_count": 187,
   "id": "a656d180-aeb5-4ce3-b593-8f8bf9c00317",
   "metadata": {},
   "outputs": [],
   "source": [
    "class Box3d (Box2D):\n",
    "    def __init__(self):\n",
    "        super().__init__()\n",
    "        self.height=2\n",
    "    def volume(self):\n",
    "        print(\"The volume is \", self.length * self.breadth * self.height)"
   ]
  },
  {
   "cell_type": "code",
   "execution_count": 184,
   "id": "15f358c3-863f-4853-9811-e8ad78f19d98",
   "metadata": {},
   "outputs": [],
   "source": [
    "b4 = Box3d()"
   ]
  },
  {
   "cell_type": "code",
   "execution_count": 186,
   "id": "f5c51fe3-e414-40e7-bcca-ba2d0a1fffa5",
   "metadata": {},
   "outputs": [
    {
     "name": "stdout",
     "output_type": "stream",
     "text": [
      "The area is  6\n",
      "The volume is  12\n"
     ]
    }
   ],
   "source": [
    "b4._surfaceArea()\n",
    "b4.volume()"
   ]
  },
  {
   "cell_type": "code",
   "execution_count": null,
   "id": "ba109869-bbed-4087-97a7-2870bf6a043c",
   "metadata": {},
   "outputs": [],
   "source": []
  }
 ],
 "metadata": {
  "kernelspec": {
   "display_name": "Python 3 (ipykernel)",
   "language": "python",
   "name": "python3"
  },
  "language_info": {
   "codemirror_mode": {
    "name": "ipython",
    "version": 3
   },
   "file_extension": ".py",
   "mimetype": "text/x-python",
   "name": "python",
   "nbconvert_exporter": "python",
   "pygments_lexer": "ipython3",
   "version": "3.12.7"
  }
 },
 "nbformat": 4,
 "nbformat_minor": 5
}
