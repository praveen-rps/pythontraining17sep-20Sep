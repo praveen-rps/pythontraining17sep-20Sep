{
 "cells": [
  {
   "cell_type": "code",
   "execution_count": 7,
   "id": "09945544-be4b-48d3-8fc6-0ac3f2a2b4e9",
   "metadata": {},
   "outputs": [],
   "source": [
    "class Test:\n",
    "    def __str__(self):\n",
    "        return \"Hello\""
   ]
  },
  {
   "cell_type": "code",
   "execution_count": 8,
   "id": "7f241d02-bcbd-44cb-983e-57b747cbf74e",
   "metadata": {},
   "outputs": [
    {
     "name": "stdout",
     "output_type": "stream",
     "text": [
      "Hello\n"
     ]
    }
   ],
   "source": [
    "t = Test()\n",
    "print(t)"
   ]
  },
  {
   "cell_type": "code",
   "execution_count": 9,
   "id": "d5f547b5-cb35-4438-af7b-942cf0926645",
   "metadata": {},
   "outputs": [
    {
     "name": "stdout",
     "output_type": "stream",
     "text": [
      "7\n"
     ]
    }
   ],
   "source": [
    "print(3+4)"
   ]
  },
  {
   "cell_type": "code",
   "execution_count": 10,
   "id": "e2f35b82-9e1f-4ecb-9a81-9e3bc54978d0",
   "metadata": {},
   "outputs": [
    {
     "name": "stdout",
     "output_type": "stream",
     "text": [
      "Hello\n"
     ]
    }
   ],
   "source": [
    "print(\"Hello\")"
   ]
  },
  {
   "cell_type": "code",
   "execution_count": 12,
   "id": "edb3cff4-b7b4-4df3-88f0-6cbd10cd5a0d",
   "metadata": {},
   "outputs": [],
   "source": [
    "class Dog:\n",
    "    def speak(self):\n",
    "        return \"Barks\"\n",
    "        \n",
    "class Cat:\n",
    "    def speak(self):\n",
    "        return \"Meaow\"\n",
    "        \n",
    "class Cow:\n",
    "    def speak(self):\n",
    "        return \"Moo Moo\"\n",
    "\n",
    "def animal_sound(animal):\n",
    "    print(animal.speak())"
   ]
  },
  {
   "cell_type": "code",
   "execution_count": 13,
   "id": "e0dd70a1-0086-4148-ba69-1265280e0471",
   "metadata": {},
   "outputs": [],
   "source": [
    "dog = Dog()\n",
    "cat = Cat()\n",
    "cow = Cow()"
   ]
  },
  {
   "cell_type": "code",
   "execution_count": 14,
   "id": "85c7b3d5-4772-47e2-831f-dd1b750e7ba7",
   "metadata": {},
   "outputs": [
    {
     "name": "stdout",
     "output_type": "stream",
     "text": [
      "Barks\n",
      "Meaow\n",
      "Moo Moo\n"
     ]
    }
   ],
   "source": [
    "animal_sound(dog)\n",
    "animal_sound(cat)\n",
    "animal_sound(cow)"
   ]
  },
  {
   "cell_type": "code",
   "execution_count": 15,
   "id": "27fd0018-3482-475d-aa03-fee08fdffe6d",
   "metadata": {},
   "outputs": [
    {
     "data": {
      "text/plain": [
       "20"
      ]
     },
     "execution_count": 15,
     "metadata": {},
     "output_type": "execute_result"
    }
   ],
   "source": [
    "10+10"
   ]
  },
  {
   "cell_type": "code",
   "execution_count": 16,
   "id": "fa003630-7142-4118-b26e-978bfc995e47",
   "metadata": {},
   "outputs": [
    {
     "data": {
      "text/plain": [
       "'ab'"
      ]
     },
     "execution_count": 16,
     "metadata": {},
     "output_type": "execute_result"
    }
   ],
   "source": [
    "\"a\"+\"b\""
   ]
  },
  {
   "cell_type": "code",
   "execution_count": 58,
   "id": "075f342a-f37d-408e-b66f-795bafa431f8",
   "metadata": {},
   "outputs": [],
   "source": [
    "class Box:\n",
    "    def __init__(self, length, breadth):\n",
    "        self.length=length\n",
    "        self.breadth=breadth\n",
    "    def area(self):\n",
    "        return self.length* self.breadth\n",
    "    def __add__(self,other):\n",
    "        #new_length = self.length + other.length\n",
    "        #new_breadth = self.breadth + other.breadth\n",
    "        return Box(self.length+other.length,self.breadth+other.breadth)\n",
    "    def __str__(self):\n",
    "        return f\"Length = {self.length} and breadth = {self.breadth}\""
   ]
  },
  {
   "cell_type": "code",
   "execution_count": 59,
   "id": "f8d83633-6011-4eee-8b9e-4f73f8690eb6",
   "metadata": {},
   "outputs": [
    {
     "data": {
      "text/plain": [
       "24"
      ]
     },
     "execution_count": 59,
     "metadata": {},
     "output_type": "execute_result"
    }
   ],
   "source": [
    "b1 = Box(4,6)\n",
    "b1.area()"
   ]
  },
  {
   "cell_type": "code",
   "execution_count": 62,
   "id": "313cb74e-c82b-49e9-96ba-888b50bbfdbf",
   "metadata": {},
   "outputs": [],
   "source": [
    "b2 = Box(3,4)\n",
    "\n",
    "b3 = Box(5,2)"
   ]
  },
  {
   "cell_type": "code",
   "execution_count": 63,
   "id": "672d2039-9e4c-4364-a0ec-273cfebadc9b",
   "metadata": {},
   "outputs": [
    {
     "name": "stdout",
     "output_type": "stream",
     "text": [
      "Length = 12 and breadth = 12\n"
     ]
    }
   ],
   "source": [
    "b = b1 + b2 + b3\n",
    "print(b)"
   ]
  },
  {
   "cell_type": "code",
   "execution_count": 53,
   "id": "1302793e-175d-4bf8-8b27-3284a7185dad",
   "metadata": {},
   "outputs": [
    {
     "name": "stdout",
     "output_type": "stream",
     "text": [
      "7   10\n"
     ]
    }
   ],
   "source": [
    "print(b.length, \" \" , b.breadth)"
   ]
  },
  {
   "cell_type": "code",
   "execution_count": 64,
   "id": "3c7932bf-9b71-4f3a-b20a-c987b44611b1",
   "metadata": {},
   "outputs": [],
   "source": [
    "class Box2D:\n",
    "    def show(self):\n",
    "        print(\"This is from 2D box\")"
   ]
  },
  {
   "cell_type": "code",
   "execution_count": 73,
   "id": "56a0a922-fc11-4c82-91e7-982303dd43e2",
   "metadata": {},
   "outputs": [],
   "source": [
    "class Box3D(Box2D):\n",
    "    def shows(self):\n",
    "        print(\"This is the from 3D box\")"
   ]
  },
  {
   "cell_type": "code",
   "execution_count": 76,
   "id": "53a773eb-c112-4cec-b453-ad3787d1bfba",
   "metadata": {},
   "outputs": [],
   "source": [
    "b2 = Box3D()\n",
    "b1 = Box2D()"
   ]
  },
  {
   "cell_type": "code",
   "execution_count": 77,
   "id": "a14c64dc-6f3d-4c2a-aa37-31aee2365314",
   "metadata": {},
   "outputs": [
    {
     "ename": "AttributeError",
     "evalue": "'Box2D' object has no attribute 'shows'",
     "output_type": "error",
     "traceback": [
      "\u001b[1;31m---------------------------------------------------------------------------\u001b[0m",
      "\u001b[1;31mAttributeError\u001b[0m                            Traceback (most recent call last)",
      "Cell \u001b[1;32mIn[77], line 1\u001b[0m\n\u001b[1;32m----> 1\u001b[0m \u001b[43mb1\u001b[49m\u001b[38;5;241;43m.\u001b[39;49m\u001b[43mshows\u001b[49m()\n",
      "\u001b[1;31mAttributeError\u001b[0m: 'Box2D' object has no attribute 'shows'"
     ]
    }
   ],
   "source": [
    "b1.show()"
   ]
  },
  {
   "cell_type": "code",
   "execution_count": 79,
   "id": "5d592b98-f4cb-4ef4-90cf-dae20dda88af",
   "metadata": {},
   "outputs": [
    {
     "name": "stdout",
     "output_type": "stream",
     "text": [
      "This is from 2D box\n",
      "This is the from 3D box\n"
     ]
    }
   ],
   "source": [
    "b2.show()\n",
    "b2.shows()"
   ]
  },
  {
   "cell_type": "code",
   "execution_count": 80,
   "id": "c4b1a0d0-0633-4948-8efc-51ebaa774236",
   "metadata": {},
   "outputs": [],
   "source": [
    "class MethodOverload:\n",
    "    def add(self, a=None,b=None,c=None):\n",
    "        if a is not None and b is not None and c is not None:\n",
    "            return a+b+c\n",
    "        elif a is not None and b is not None:\n",
    "            return a+b\n",
    "        else:\n",
    "            return a"
   ]
  },
  {
   "cell_type": "code",
   "execution_count": 81,
   "id": "10312d2d-64d3-4115-a84f-d875aa18d934",
   "metadata": {},
   "outputs": [],
   "source": [
    "m = MethodOverload()"
   ]
  },
  {
   "cell_type": "code",
   "execution_count": 82,
   "id": "81206baf-28a9-494c-941c-76d17b81ec69",
   "metadata": {},
   "outputs": [
    {
     "name": "stdout",
     "output_type": "stream",
     "text": [
      "10\n"
     ]
    }
   ],
   "source": [
    "print(m.add(10))"
   ]
  },
  {
   "cell_type": "code",
   "execution_count": 83,
   "id": "b7144ec2-cc71-4bd2-87bb-2cf8db7272bc",
   "metadata": {},
   "outputs": [
    {
     "name": "stdout",
     "output_type": "stream",
     "text": [
      "30\n"
     ]
    }
   ],
   "source": [
    "print(m.add(10,20))"
   ]
  },
  {
   "cell_type": "code",
   "execution_count": 84,
   "id": "f83c19a1-b366-452c-a261-9439465740ca",
   "metadata": {},
   "outputs": [
    {
     "name": "stdout",
     "output_type": "stream",
     "text": [
      "60\n"
     ]
    }
   ],
   "source": [
    "print(m.add(10,20,30))"
   ]
  },
  {
   "cell_type": "code",
   "execution_count": 128,
   "id": "7d0975bf-c761-40cb-b0e1-ffa0d3ab989b",
   "metadata": {},
   "outputs": [],
   "source": [
    "class Student:\n",
    "    def __init__(self):\n",
    "        self.__name=\"Anil\"\n",
    "        self.branch=\"CSE\"\n",
    "        self.m1=40\n",
    "        self.m2=50\n",
    "        self___total = self.m1 + self.m2\n",
    "    def showDetails(self):\n",
    "        return f\" {self.__name} , {self.branch} and {self.__total}\""
   ]
  },
  {
   "cell_type": "code",
   "execution_count": 131,
   "id": "7d1ef1ed-ca2c-4405-9077-4163ffabcdb6",
   "metadata": {},
   "outputs": [],
   "source": [
    "s = Student()"
   ]
  },
  {
   "cell_type": "code",
   "execution_count": 132,
   "id": "b89f21b7-1388-4bf7-b4b5-abe3e3089d1d",
   "metadata": {},
   "outputs": [
    {
     "ename": "AttributeError",
     "evalue": "'Student' object has no attribute 'total'",
     "output_type": "error",
     "traceback": [
      "\u001b[1;31m---------------------------------------------------------------------------\u001b[0m",
      "\u001b[1;31mAttributeError\u001b[0m                            Traceback (most recent call last)",
      "Cell \u001b[1;32mIn[132], line 1\u001b[0m\n\u001b[1;32m----> 1\u001b[0m \u001b[43ms\u001b[49m\u001b[38;5;241;43m.\u001b[39;49m\u001b[43mshowDetails\u001b[49m\u001b[43m(\u001b[49m\u001b[43m)\u001b[49m\n",
      "Cell \u001b[1;32mIn[128], line 9\u001b[0m, in \u001b[0;36mStudent.showDetails\u001b[1;34m(self)\u001b[0m\n\u001b[0;32m      8\u001b[0m \u001b[38;5;28;01mdef\u001b[39;00m\u001b[38;5;250m \u001b[39m\u001b[38;5;21mshowDetails\u001b[39m(\u001b[38;5;28mself\u001b[39m):\n\u001b[1;32m----> 9\u001b[0m     \u001b[38;5;28;01mreturn\u001b[39;00m \u001b[38;5;124mf\u001b[39m\u001b[38;5;124m\"\u001b[39m\u001b[38;5;124m \u001b[39m\u001b[38;5;132;01m{\u001b[39;00m\u001b[38;5;28mself\u001b[39m\u001b[38;5;241m.\u001b[39m__name\u001b[38;5;132;01m}\u001b[39;00m\u001b[38;5;124m , \u001b[39m\u001b[38;5;132;01m{\u001b[39;00m\u001b[38;5;28mself\u001b[39m\u001b[38;5;241m.\u001b[39mbranch\u001b[38;5;132;01m}\u001b[39;00m\u001b[38;5;124m and \u001b[39m\u001b[38;5;132;01m{\u001b[39;00m\u001b[38;5;28;43mself\u001b[39;49m\u001b[38;5;241;43m.\u001b[39;49m\u001b[43mtotal\u001b[49m\u001b[38;5;132;01m}\u001b[39;00m\u001b[38;5;124m\"\u001b[39m\n",
      "\u001b[1;31mAttributeError\u001b[0m: 'Student' object has no attribute 'total'"
     ]
    }
   ],
   "source": [
    "s.showDetails()"
   ]
  },
  {
   "cell_type": "code",
   "execution_count": 133,
   "id": "6e8cba50-c6a8-4d9d-be39-12234f2326cb",
   "metadata": {},
   "outputs": [
    {
     "ename": "AttributeError",
     "evalue": "'Student' object has no attribute 'total'",
     "output_type": "error",
     "traceback": [
      "\u001b[1;31m---------------------------------------------------------------------------\u001b[0m",
      "\u001b[1;31mAttributeError\u001b[0m                            Traceback (most recent call last)",
      "Cell \u001b[1;32mIn[133], line 2\u001b[0m\n\u001b[0;32m      1\u001b[0m s\u001b[38;5;241m.\u001b[39m__name\u001b[38;5;241m=\u001b[39m\u001b[38;5;124m\"\u001b[39m\u001b[38;5;124mHari\u001b[39m\u001b[38;5;124m\"\u001b[39m\n\u001b[1;32m----> 2\u001b[0m \u001b[43ms\u001b[49m\u001b[38;5;241;43m.\u001b[39;49m\u001b[43mshowDetails\u001b[49m\u001b[43m(\u001b[49m\u001b[43m)\u001b[49m\n",
      "Cell \u001b[1;32mIn[128], line 9\u001b[0m, in \u001b[0;36mStudent.showDetails\u001b[1;34m(self)\u001b[0m\n\u001b[0;32m      8\u001b[0m \u001b[38;5;28;01mdef\u001b[39;00m\u001b[38;5;250m \u001b[39m\u001b[38;5;21mshowDetails\u001b[39m(\u001b[38;5;28mself\u001b[39m):\n\u001b[1;32m----> 9\u001b[0m     \u001b[38;5;28;01mreturn\u001b[39;00m \u001b[38;5;124mf\u001b[39m\u001b[38;5;124m\"\u001b[39m\u001b[38;5;124m \u001b[39m\u001b[38;5;132;01m{\u001b[39;00m\u001b[38;5;28mself\u001b[39m\u001b[38;5;241m.\u001b[39m__name\u001b[38;5;132;01m}\u001b[39;00m\u001b[38;5;124m , \u001b[39m\u001b[38;5;132;01m{\u001b[39;00m\u001b[38;5;28mself\u001b[39m\u001b[38;5;241m.\u001b[39mbranch\u001b[38;5;132;01m}\u001b[39;00m\u001b[38;5;124m and \u001b[39m\u001b[38;5;132;01m{\u001b[39;00m\u001b[38;5;28;43mself\u001b[39;49m\u001b[38;5;241;43m.\u001b[39;49m\u001b[43mtotal\u001b[49m\u001b[38;5;132;01m}\u001b[39;00m\u001b[38;5;124m\"\u001b[39m\n",
      "\u001b[1;31mAttributeError\u001b[0m: 'Student' object has no attribute 'total'"
     ]
    }
   ],
   "source": [
    "s.__name=\"Hari\"\n",
    "s.showDetails()"
   ]
  },
  {
   "cell_type": "code",
   "execution_count": 126,
   "id": "1deb6d9d-7d1d-4d20-9b5d-45c364a15243",
   "metadata": {},
   "outputs": [],
   "source": [
    "s.total=100"
   ]
  },
  {
   "cell_type": "code",
   "execution_count": 127,
   "id": "546c16b5-29bd-4a23-bb7b-06dc0ad74ff9",
   "metadata": {},
   "outputs": [
    {
     "data": {
      "text/plain": [
       "' Anil , CSE and 100'"
      ]
     },
     "execution_count": 127,
     "metadata": {},
     "output_type": "execute_result"
    }
   ],
   "source": [
    "s.showDetails()"
   ]
  },
  {
   "cell_type": "code",
   "execution_count": 149,
   "id": "a7f15601-76f8-4cf2-978c-a8f5b0634b03",
   "metadata": {},
   "outputs": [],
   "source": [
    "class BankAccount:\n",
    "    def __init__(self,amount):\n",
    "        self.__balance = amount\n",
    "    def get_balance(self):\n",
    "        return self.__balance\n",
    "    def set_balance(self,amount):\n",
    "        if amount < 0:\n",
    "            print(\"Invalid Balance\")\n",
    "        else:\n",
    "            self.__balance=amount"
   ]
  },
  {
   "cell_type": "code",
   "execution_count": 150,
   "id": "0ceb1400-2644-4f96-bba3-fa0946b2673f",
   "metadata": {},
   "outputs": [],
   "source": [
    "b = BankAccount(1000)"
   ]
  },
  {
   "cell_type": "code",
   "execution_count": 151,
   "id": "67a858fe-58bb-468d-b5cc-fd427729e868",
   "metadata": {},
   "outputs": [
    {
     "name": "stdout",
     "output_type": "stream",
     "text": [
      "1000\n"
     ]
    }
   ],
   "source": [
    "print(b.get_balance())"
   ]
  },
  {
   "cell_type": "code",
   "execution_count": 152,
   "id": "bc3d40a1-591c-4961-ac23-4f6012c28321",
   "metadata": {},
   "outputs": [
    {
     "ename": "AttributeError",
     "evalue": "'BankAccount' object has no attribute '__balance'",
     "output_type": "error",
     "traceback": [
      "\u001b[1;31m---------------------------------------------------------------------------\u001b[0m",
      "\u001b[1;31mAttributeError\u001b[0m                            Traceback (most recent call last)",
      "Cell \u001b[1;32mIn[152], line 1\u001b[0m\n\u001b[1;32m----> 1\u001b[0m \u001b[38;5;28mprint\u001b[39m(\u001b[43mb\u001b[49m\u001b[38;5;241;43m.\u001b[39;49m\u001b[43m__balance\u001b[49m)\n",
      "\u001b[1;31mAttributeError\u001b[0m: 'BankAccount' object has no attribute '__balance'"
     ]
    }
   ],
   "source": [
    "print(b.__balance)"
   ]
  },
  {
   "cell_type": "code",
   "execution_count": 153,
   "id": "8aa8c63b-d69a-4c34-9201-c8fbe7270ea7",
   "metadata": {},
   "outputs": [],
   "source": [
    "b.__balance=2000"
   ]
  },
  {
   "cell_type": "code",
   "execution_count": 154,
   "id": "01bf9840-8cbf-4720-8bdf-4433c0675e96",
   "metadata": {},
   "outputs": [
    {
     "name": "stdout",
     "output_type": "stream",
     "text": [
      "1000\n"
     ]
    }
   ],
   "source": [
    "print(b.get_balance())"
   ]
  },
  {
   "cell_type": "code",
   "execution_count": 157,
   "id": "08b5eb10-9fb1-4f27-b6a9-06b3fa05f03c",
   "metadata": {},
   "outputs": [],
   "source": [
    "b.set_balance(5000)"
   ]
  },
  {
   "cell_type": "code",
   "execution_count": 162,
   "id": "775f2654-9dba-4442-acd1-42ef02ce8804",
   "metadata": {},
   "outputs": [
    {
     "name": "stdout",
     "output_type": "stream",
     "text": [
      "5000\n"
     ]
    }
   ],
   "source": [
    "print(b.get_balance())\n",
    "b.__balance=3000"
   ]
  },
  {
   "cell_type": "code",
   "execution_count": 163,
   "id": "61799957-fdd0-42ec-8fe2-cf378cb4ef33",
   "metadata": {},
   "outputs": [
    {
     "data": {
      "text/plain": [
       "{'_BankAccount__balance': 5000, '__balance': 3000}"
      ]
     },
     "execution_count": 163,
     "metadata": {},
     "output_type": "execute_result"
    }
   ],
   "source": [
    "b.__dict__"
   ]
  },
  {
   "cell_type": "code",
   "execution_count": 164,
   "id": "b8e6f4d9-ce7a-406d-8183-e4e9bbd7991d",
   "metadata": {},
   "outputs": [],
   "source": [
    "b.__dict__['accno']=10123"
   ]
  },
  {
   "cell_type": "code",
   "execution_count": 165,
   "id": "87140b99-68af-4b7d-90e4-3de2291545ee",
   "metadata": {},
   "outputs": [
    {
     "data": {
      "text/plain": [
       "{'_BankAccount__balance': 5000, '__balance': 3000, 'accno': 10123}"
      ]
     },
     "execution_count": 165,
     "metadata": {},
     "output_type": "execute_result"
    }
   ],
   "source": [
    "b.__dict__"
   ]
  },
  {
   "cell_type": "code",
   "execution_count": 166,
   "id": "8d0c261e-168a-4bd9-bb77-a0ccc3d3aeda",
   "metadata": {},
   "outputs": [
    {
     "name": "stdout",
     "output_type": "stream",
     "text": [
      "10123\n"
     ]
    }
   ],
   "source": [
    "print(b.accno)"
   ]
  },
  {
   "cell_type": "code",
   "execution_count": 168,
   "id": "35c532c1-af2c-42ad-8d07-d353c59fbbab",
   "metadata": {},
   "outputs": [
    {
     "data": {
      "text/plain": [
       "mappingproxy({'__module__': '__main__',\n",
       "              '__init__': <function __main__.BankAccount.__init__(self, amount)>,\n",
       "              'get_balance': <function __main__.BankAccount.get_balance(self)>,\n",
       "              'set_balance': <function __main__.BankAccount.set_balance(self, amount)>,\n",
       "              '__dict__': <attribute '__dict__' of 'BankAccount' objects>,\n",
       "              '__weakref__': <attribute '__weakref__' of 'BankAccount' objects>,\n",
       "              '__doc__': None})"
      ]
     },
     "execution_count": 168,
     "metadata": {},
     "output_type": "execute_result"
    }
   ],
   "source": [
    "BankAccount.__dict__"
   ]
  },
  {
   "cell_type": "code",
   "execution_count": 169,
   "id": "b512bad3-4653-41db-85cb-92f59bf5b40d",
   "metadata": {},
   "outputs": [
    {
     "name": "stdout",
     "output_type": "stream",
     "text": [
      "{'_BankAccount__balance': 5000, '__balance': 3000, 'accno': 10123}\n"
     ]
    }
   ],
   "source": [
    "print(vars(b))"
   ]
  },
  {
   "cell_type": "code",
   "execution_count": 170,
   "id": "5f2ce346-8af1-41f8-ad2f-72591a8f0039",
   "metadata": {},
   "outputs": [
    {
     "name": "stdout",
     "output_type": "stream",
     "text": [
      "{'__module__': '__main__', '__init__': <function BankAccount.__init__ at 0x000001AAFD2B00E0>, 'get_balance': <function BankAccount.get_balance at 0x000001AAFD2B0400>, 'set_balance': <function BankAccount.set_balance at 0x000001AAFD2B0220>, '__dict__': <attribute '__dict__' of 'BankAccount' objects>, '__weakref__': <attribute '__weakref__' of 'BankAccount' objects>, '__doc__': None}\n"
     ]
    }
   ],
   "source": [
    "print(vars(BankAccount))"
   ]
  },
  {
   "cell_type": "code",
   "execution_count": 171,
   "id": "0065c5ec-2105-4658-9787-e69bfc52ab8d",
   "metadata": {},
   "outputs": [
    {
     "data": {
      "text/plain": [
       "16"
      ]
     },
     "execution_count": 171,
     "metadata": {},
     "output_type": "execute_result"
    }
   ],
   "source": [
    "(lambda x: x*x)(4)"
   ]
  },
  {
   "cell_type": "code",
   "execution_count": 172,
   "id": "172efac4-02c0-4ace-a165-d16b51b44ad0",
   "metadata": {},
   "outputs": [],
   "source": [
    "s = lambda x: x*x"
   ]
  },
  {
   "cell_type": "code",
   "execution_count": 173,
   "id": "fa23b928-da9b-4007-b822-b6068052ec56",
   "metadata": {},
   "outputs": [
    {
     "data": {
      "text/plain": [
       "25"
      ]
     },
     "execution_count": 173,
     "metadata": {},
     "output_type": "execute_result"
    }
   ],
   "source": [
    "s(5)"
   ]
  },
  {
   "cell_type": "code",
   "execution_count": 175,
   "id": "22e2eccc-9406-4a09-943f-640d5feaf883",
   "metadata": {},
   "outputs": [],
   "source": [
    "mul = lambda a,b : a*b"
   ]
  },
  {
   "cell_type": "code",
   "execution_count": 176,
   "id": "85869767-4dd0-4f45-85ca-a338d358375c",
   "metadata": {},
   "outputs": [
    {
     "data": {
      "text/plain": [
       "200"
      ]
     },
     "execution_count": 176,
     "metadata": {},
     "output_type": "execute_result"
    }
   ],
   "source": [
    "mul(10,20)"
   ]
  },
  {
   "cell_type": "code",
   "execution_count": 178,
   "id": "402832c0-57ae-455e-a7ff-79d64c7b9bbc",
   "metadata": {},
   "outputs": [],
   "source": [
    "big = lambda a,b : a if a > b else b"
   ]
  },
  {
   "cell_type": "code",
   "execution_count": 179,
   "id": "c29a24ca-3ffc-4517-8938-20236219fc51",
   "metadata": {},
   "outputs": [
    {
     "name": "stdout",
     "output_type": "stream",
     "text": [
      "20\n"
     ]
    }
   ],
   "source": [
    "print(big(10,20))"
   ]
  },
  {
   "cell_type": "code",
   "execution_count": 180,
   "id": "49b3d3d0-4f24-4455-b8f2-5b538bd6d108",
   "metadata": {},
   "outputs": [],
   "source": [
    "def getmethod(fun):\n",
    "    print(fun(10,20))"
   ]
  },
  {
   "cell_type": "code",
   "execution_count": 181,
   "id": "410e1991-022e-460b-af19-281375b9a5e0",
   "metadata": {},
   "outputs": [
    {
     "name": "stdout",
     "output_type": "stream",
     "text": [
      "20\n"
     ]
    }
   ],
   "source": [
    "getmethod(big)"
   ]
  },
  {
   "cell_type": "code",
   "execution_count": 182,
   "id": "6ef19814-9e14-4232-8377-b990bbffae96",
   "metadata": {},
   "outputs": [
    {
     "name": "stdout",
     "output_type": "stream",
     "text": [
      "[1, 4, 9, 16, 25]\n"
     ]
    }
   ],
   "source": [
    "nums = [1,2,3,4,5]\n",
    "result =[]\n",
    "for x in nums:\n",
    "    result.append(x*x)\n",
    "print(result)\n",
    "    "
   ]
  },
  {
   "cell_type": "code",
   "execution_count": 183,
   "id": "e9da22fe-b5c3-4dbd-9a8c-ba56ab612b6f",
   "metadata": {},
   "outputs": [
    {
     "name": "stdout",
     "output_type": "stream",
     "text": [
      "[1, 4, 9, 16, 25]\n"
     ]
    }
   ],
   "source": [
    "nums = [1,2,3,4,5]\n",
    "data = list(map(lambda x: x*x, nums))\n",
    "print(data)"
   ]
  },
  {
   "cell_type": "code",
   "execution_count": 184,
   "id": "bc17ad25-7e25-4da9-8ed1-7501440e6d6f",
   "metadata": {},
   "outputs": [
    {
     "name": "stdout",
     "output_type": "stream",
     "text": [
      "['PRAVEEN', 'RAVI', 'NEHA']\n"
     ]
    }
   ],
   "source": [
    "names = [\"praveen\",\"ravi\",\"neha\"]\n",
    "uppernames= list(map(lambda n : n.upper(), names))\n",
    "print(uppernames)"
   ]
  },
  {
   "cell_type": "code",
   "execution_count": 186,
   "id": "9dbb2de4-c613-4ba3-a1ab-0c66e92e195f",
   "metadata": {},
   "outputs": [
    {
     "name": "stdout",
     "output_type": "stream",
     "text": [
      "[5, 7, 9]\n"
     ]
    }
   ],
   "source": [
    "l1 = [1,2,3]\n",
    "l2 = [4,5,6]\n",
    "result = list(map(lambda a,b : a+b, l1, l2))\n",
    "print(result)"
   ]
  },
  {
   "cell_type": "code",
   "execution_count": 187,
   "id": "4bacdf3d-4e4c-49f4-a66c-d338a7d02696",
   "metadata": {},
   "outputs": [
    {
     "name": "stdout",
     "output_type": "stream",
     "text": [
      "[10, 20, 30]\n"
     ]
    }
   ],
   "source": [
    "data = [10,15,20,25,30]\n",
    "temp = list(filter(lambda x:x%2==0, data))\n",
    "print(temp)"
   ]
  },
  {
   "cell_type": "code",
   "execution_count": 189,
   "id": "5f5560e0-b0c6-42b9-be66-39ffc7c52c69",
   "metadata": {},
   "outputs": [
    {
     "name": "stdout",
     "output_type": "stream",
     "text": [
      "['praveen', 'pavan']\n"
     ]
    }
   ],
   "source": [
    "names = [\"praveen\",\"ravi\",\"neha\", \"arun\", \"satish\", \"pavan\"]\n",
    "filtereddata = list(filter( lambda s : s.startswith('p'), names))\n",
    "print(filtereddata)"
   ]
  },
  {
   "cell_type": "code",
   "execution_count": 191,
   "id": "62204892-784d-4c42-9722-26a4b52d3e61",
   "metadata": {},
   "outputs": [
    {
     "name": "stdout",
     "output_type": "stream",
     "text": [
      "[{'name': 'Praveen', 'salary': 10000}]\n"
     ]
    }
   ],
   "source": [
    "employees = [\n",
    "    {\"name\":\"Praveen\", \"salary\":10000},\n",
    "    {\"name\":\"Kumar\",\"salary\":45000},\n",
    "    {\"name\":\"Ravi\", \"salary\":35000},\n",
    "    {\"name\":\"Neha\", \"salary\":25000}\n",
    "]\n",
    "\n",
    "data = list(filter(lambda e : e['salary'] <=15000 , employees))\n",
    "print(data)"
   ]
  },
  {
   "cell_type": "code",
   "execution_count": 194,
   "id": "75efadb1-0268-425e-862d-cd1d37bbeb4c",
   "metadata": {},
   "outputs": [
    {
     "name": "stdout",
     "output_type": "stream",
     "text": [
      "21\n"
     ]
    }
   ],
   "source": [
    "from functools import reduce\n",
    "nums = [1,2,3,4,5,6]\n",
    "total_value = reduce(lambda a,b:a+b, nums)\n",
    "print(total_value)"
   ]
  },
  {
   "cell_type": "code",
   "execution_count": 195,
   "id": "6a30d269-60b9-4d83-9a91-bfd712be5c0f",
   "metadata": {},
   "outputs": [
    {
     "name": "stdout",
     "output_type": "stream",
     "text": [
      "30\n"
     ]
    }
   ],
   "source": [
    "nums = [10,25,5,30,15]\n",
    "big= reduce(lambda a,b : a if a>b else b, nums)\n",
    "print(big)"
   ]
  },
  {
   "cell_type": "code",
   "execution_count": 196,
   "id": "4ab4b278-d284-4193-bfc5-f0c561c9c172",
   "metadata": {},
   "outputs": [
    {
     "name": "stdout",
     "output_type": "stream",
     "text": [
      "python program is fun\n"
     ]
    }
   ],
   "source": [
    "words = ['python','program','is','fun']\n",
    "sentence = reduce (lambda a,b : a+' '+b, words)\n",
    "print(sentence)"
   ]
  },
  {
   "cell_type": "code",
   "execution_count": 204,
   "id": "f930e226-d639-44c4-b6b4-fee35bbe9553",
   "metadata": {},
   "outputs": [
    {
     "name": "stdout",
     "output_type": "stream",
     "text": [
      "Final Prices after discount :  [1800.0, 760.0, 2400.0, 100.0, 1125.0]\n",
      "Items below 1500  [760.0, 100.0, 1125.0]\n",
      "The Final Bill is  1985.0\n"
     ]
    }
   ],
   "source": [
    "from functools import reduce\n",
    "products = [\n",
    "    {\"name\":\"Shoes\", \"price\":2000, \"discount\":10},\n",
    "    {\"name\":\"Bag\", \"price\":800, \"discount\":5},\n",
    "    {\"name\":\"Watch\", \"price\":3000, \"discount\":20},\n",
    "    {\"name\":\"Pens\", \"price\":100, \"discount\":0},\n",
    "    {\"name\":\"tables\", \"price\":1500, \"discount\":25}\n",
    "]\n",
    "\n",
    "finalPrices = list(map( lambda p: p['price'] - (p['price'] * p['discount']/100), products))\n",
    "print(\"Final Prices after discount : \" , finalPrices)\n",
    "purchaseble_items = list(filter(lambda price: price<=1500, finalPrices))\n",
    "print(\"Items below 1500 \", purchaseble_items)\n",
    "bill = reduce(lambda x,y : x+y, purchaseble_items)\n",
    "print(\"The Final Bill is \", bill)"
   ]
  },
  {
   "cell_type": "code",
   "execution_count": 216,
   "id": "b03c60d9-f1f4-4afc-94a0-8b3451b6dd47",
   "metadata": {},
   "outputs": [
    {
     "name": "stdout",
     "output_type": "stream",
     "text": [
      "[{'name': 'Amit', 'region': 'North', 'sales': 40000, 'commision': 4000.0}, {'name': 'Priya', 'region': 'south', 'sales': 75000, 'commision': 7500.0}, {'name': 'John', 'region': 'East', 'sales': 65000, 'commision': 6500.0}, {'name': 'Ravi', 'region': 'West', 'sales': 30000, 'commision': 3000.0}, {'name': 'Neha', 'region': 'North', 'sales': 90000, 'commision': 9000.0}, {'name': 'Divya', 'region': 'South', 'sales': 55000, 'commision': 5500.0}]\n",
      "filtered Data  [{'name': 'Amit', 'region': 'North', 'sales': 40000, 'commision': 4000.0}, {'name': 'Ravi', 'region': 'West', 'sales': 30000, 'commision': 3000.0}]\n",
      "Total Commission is  35500.0\n",
      "The top performer  {'name': 'Neha', 'region': 'North', 'sales': 90000}\n"
     ]
    }
   ],
   "source": [
    "from functools import reduce\n",
    "\n",
    "sales_data = [\n",
    "    {\"name\":\"Amit\", \"region\":\"North\", \"sales\": 40000},\n",
    "    {\"name\":\"Priya\", \"region\":\"south\", \"sales\": 75000},\n",
    "    {\"name\":\"John\", \"region\":\"East\", \"sales\": 65000},\n",
    "    {\"name\":\"Ravi\", \"region\":\"West\", \"sales\": 30000},\n",
    "    {\"name\":\"Neha\", \"region\":\"North\", \"sales\": 90000},\n",
    "    {\"name\":\"Divya\", \"region\":\"South\", \"sales\": 55000}\n",
    "]\n",
    "\n",
    "# step-2 : Apply 10% commission to all the employees\n",
    "\n",
    "sales_with_commission= list(map(lambda s : {\"name\": s['name'], \"region\":s['region'], \"sales\": s['sales'], \"commision\": s['sales']*0.10}, sales_data))\n",
    "\n",
    "print(sales_with_commission)\n",
    "\n",
    "filtered_data = list(filter(lambda s: s['sales']<50000 , sales_with_commission))\n",
    "print(\"filtered Data \" ,filtered_data)\n",
    "\n",
    "total_commission = reduce(lambda x,y : x +y['commision'], sales_with_commission,0)\n",
    "print(\"Total Commission is \", total_commission)\n",
    "\n",
    "top_performer = reduce(lambda x, y : x if x['sales'] > y['sales'] else y, sales_data)\n",
    "print(\"The top performer \", top_performer)"
   ]
  },
  {
   "cell_type": "code",
   "execution_count": null,
   "id": "aa6a845d-9c2f-4af3-8045-45df4f65ab84",
   "metadata": {},
   "outputs": [],
   "source": [
    "\n"
   ]
  }
 ],
 "metadata": {
  "kernelspec": {
   "display_name": "Python 3 (ipykernel)",
   "language": "python",
   "name": "python3"
  },
  "language_info": {
   "codemirror_mode": {
    "name": "ipython",
    "version": 3
   },
   "file_extension": ".py",
   "mimetype": "text/x-python",
   "name": "python",
   "nbconvert_exporter": "python",
   "pygments_lexer": "ipython3",
   "version": "3.12.7"
  }
 },
 "nbformat": 4,
 "nbformat_minor": 5
}
